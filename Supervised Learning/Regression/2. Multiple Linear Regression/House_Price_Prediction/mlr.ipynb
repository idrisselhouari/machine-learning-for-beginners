{
 "cells": [
  {
   "cell_type": "markdown",
   "metadata": {},
   "source": [
    "# House Price Prediction"
   ]
  },
  {
   "cell_type": "code",
   "execution_count": 1,
   "metadata": {},
   "outputs": [],
   "source": [
    "import numpy as np\n",
    "import pandas as pd\n",
    "\n",
    "from sklearn.model_selection import train_test_split\n",
    "from sklearn.linear_model import LinearRegression\n",
    "\n",
    "import matplotlib.pyplot as plt\n",
    "import seaborn as sns\n",
    "\n",
    "import plotly.graph_objs as go "
   ]
  },
  {
   "cell_type": "code",
   "execution_count": 2,
   "metadata": {},
   "outputs": [
    {
     "data": {
      "text/html": [
       "<div>\n",
       "<style scoped>\n",
       "    .dataframe tbody tr th:only-of-type {\n",
       "        vertical-align: middle;\n",
       "    }\n",
       "\n",
       "    .dataframe tbody tr th {\n",
       "        vertical-align: top;\n",
       "    }\n",
       "\n",
       "    .dataframe thead th {\n",
       "        text-align: right;\n",
       "    }\n",
       "</style>\n",
       "<table border=\"1\" class=\"dataframe\">\n",
       "  <thead>\n",
       "    <tr style=\"text-align: right;\">\n",
       "      <th></th>\n",
       "      <th>taille_en_pieds_carre</th>\n",
       "      <th>nb_chambres</th>\n",
       "      <th>prix</th>\n",
       "    </tr>\n",
       "  </thead>\n",
       "  <tbody>\n",
       "    <tr>\n",
       "      <th>0</th>\n",
       "      <td>2104</td>\n",
       "      <td>3</td>\n",
       "      <td>399900</td>\n",
       "    </tr>\n",
       "    <tr>\n",
       "      <th>1</th>\n",
       "      <td>1600</td>\n",
       "      <td>3</td>\n",
       "      <td>329900</td>\n",
       "    </tr>\n",
       "    <tr>\n",
       "      <th>2</th>\n",
       "      <td>2400</td>\n",
       "      <td>3</td>\n",
       "      <td>369000</td>\n",
       "    </tr>\n",
       "    <tr>\n",
       "      <th>3</th>\n",
       "      <td>1416</td>\n",
       "      <td>2</td>\n",
       "      <td>232000</td>\n",
       "    </tr>\n",
       "    <tr>\n",
       "      <th>4</th>\n",
       "      <td>3000</td>\n",
       "      <td>4</td>\n",
       "      <td>539900</td>\n",
       "    </tr>\n",
       "  </tbody>\n",
       "</table>\n",
       "</div>"
      ],
      "text/plain": [
       "   taille_en_pieds_carre  nb_chambres    prix\n",
       "0                   2104            3  399900\n",
       "1                   1600            3  329900\n",
       "2                   2400            3  369000\n",
       "3                   1416            2  232000\n",
       "4                   3000            4  539900"
      ]
     },
     "execution_count": 2,
     "metadata": {},
     "output_type": "execute_result"
    }
   ],
   "source": [
    "DATA_DIR = '..\\..\\#DATA'\n",
    "data = pd.read_excel(DATA_DIR + '\\House_Price_Prediction\\data.xlsx')\n",
    "data.head()"
   ]
  },
  {
   "cell_type": "markdown",
   "metadata": {},
   "source": [
    "## Data Exploration"
   ]
  },
  {
   "cell_type": "code",
   "execution_count": 3,
   "metadata": {},
   "outputs": [
    {
     "name": "stdout",
     "output_type": "stream",
     "text": [
      "<class 'pandas.core.frame.DataFrame'>\n",
      "RangeIndex: 47 entries, 0 to 46\n",
      "Data columns (total 3 columns):\n",
      " #   Column                 Non-Null Count  Dtype\n",
      "---  ------                 --------------  -----\n",
      " 0   taille_en_pieds_carre  47 non-null     int64\n",
      " 1   nb_chambres            47 non-null     int64\n",
      " 2   prix                   47 non-null     int64\n",
      "dtypes: int64(3)\n",
      "memory usage: 1.2 KB\n"
     ]
    }
   ],
   "source": [
    "data.info()"
   ]
  },
  {
   "cell_type": "code",
   "execution_count": 4,
   "metadata": {},
   "outputs": [
    {
     "data": {
      "text/plain": [
       "taille_en_pieds_carre    0\n",
       "nb_chambres              0\n",
       "prix                     0\n",
       "dtype: int64"
      ]
     },
     "execution_count": 4,
     "metadata": {},
     "output_type": "execute_result"
    }
   ],
   "source": [
    "data.isna().sum()"
   ]
  },
  {
   "cell_type": "code",
   "execution_count": 5,
   "metadata": {},
   "outputs": [
    {
     "data": {
      "text/plain": [
       "0"
      ]
     },
     "execution_count": 5,
     "metadata": {},
     "output_type": "execute_result"
    }
   ],
   "source": [
    "data.duplicated().sum()"
   ]
  },
  {
   "cell_type": "code",
   "execution_count": 6,
   "metadata": {},
   "outputs": [
    {
     "data": {
      "text/html": [
       "<div>\n",
       "<style scoped>\n",
       "    .dataframe tbody tr th:only-of-type {\n",
       "        vertical-align: middle;\n",
       "    }\n",
       "\n",
       "    .dataframe tbody tr th {\n",
       "        vertical-align: top;\n",
       "    }\n",
       "\n",
       "    .dataframe thead th {\n",
       "        text-align: right;\n",
       "    }\n",
       "</style>\n",
       "<table border=\"1\" class=\"dataframe\">\n",
       "  <thead>\n",
       "    <tr style=\"text-align: right;\">\n",
       "      <th></th>\n",
       "      <th>taille_en_pieds_carre</th>\n",
       "      <th>nb_chambres</th>\n",
       "      <th>prix</th>\n",
       "    </tr>\n",
       "  </thead>\n",
       "  <tbody>\n",
       "    <tr>\n",
       "      <th>count</th>\n",
       "      <td>47.000000</td>\n",
       "      <td>47.000000</td>\n",
       "      <td>47.000000</td>\n",
       "    </tr>\n",
       "    <tr>\n",
       "      <th>mean</th>\n",
       "      <td>2000.680851</td>\n",
       "      <td>3.170213</td>\n",
       "      <td>340412.659574</td>\n",
       "    </tr>\n",
       "    <tr>\n",
       "      <th>std</th>\n",
       "      <td>794.702354</td>\n",
       "      <td>0.760982</td>\n",
       "      <td>125039.899586</td>\n",
       "    </tr>\n",
       "    <tr>\n",
       "      <th>min</th>\n",
       "      <td>852.000000</td>\n",
       "      <td>1.000000</td>\n",
       "      <td>169900.000000</td>\n",
       "    </tr>\n",
       "    <tr>\n",
       "      <th>25%</th>\n",
       "      <td>1432.000000</td>\n",
       "      <td>3.000000</td>\n",
       "      <td>249900.000000</td>\n",
       "    </tr>\n",
       "    <tr>\n",
       "      <th>50%</th>\n",
       "      <td>1888.000000</td>\n",
       "      <td>3.000000</td>\n",
       "      <td>299900.000000</td>\n",
       "    </tr>\n",
       "    <tr>\n",
       "      <th>75%</th>\n",
       "      <td>2269.000000</td>\n",
       "      <td>4.000000</td>\n",
       "      <td>384450.000000</td>\n",
       "    </tr>\n",
       "    <tr>\n",
       "      <th>max</th>\n",
       "      <td>4478.000000</td>\n",
       "      <td>5.000000</td>\n",
       "      <td>699900.000000</td>\n",
       "    </tr>\n",
       "  </tbody>\n",
       "</table>\n",
       "</div>"
      ],
      "text/plain": [
       "       taille_en_pieds_carre  nb_chambres           prix\n",
       "count              47.000000    47.000000      47.000000\n",
       "mean             2000.680851     3.170213  340412.659574\n",
       "std               794.702354     0.760982  125039.899586\n",
       "min               852.000000     1.000000  169900.000000\n",
       "25%              1432.000000     3.000000  249900.000000\n",
       "50%              1888.000000     3.000000  299900.000000\n",
       "75%              2269.000000     4.000000  384450.000000\n",
       "max              4478.000000     5.000000  699900.000000"
      ]
     },
     "execution_count": 6,
     "metadata": {},
     "output_type": "execute_result"
    }
   ],
   "source": [
    "data.describe()"
   ]
  },
  {
   "cell_type": "markdown",
   "metadata": {},
   "source": [
    "## Data Visualisation"
   ]
  },
  {
   "cell_type": "code",
   "execution_count": 7,
   "metadata": {},
   "outputs": [
    {
     "data": {
      "image/png": "[encoded data removed]",
      "text/plain": [
       "<Figure size 640x480 with 2 Axes>"
      ]
     },
     "metadata": {},
     "output_type": "display_data"
    }
   ],
   "source": [
    "sns.heatmap(data.corr(), annot=True, cmap=\"Blues\")\n",
    "plt.show()"
   ]
  },
  {
   "cell_type": "code",
   "execution_count": null,
   "metadata": {},
   "outputs": [],
   "source": [
    "fig, axes = plt.subplots(1, 2, figsize=(12, 5))\n",
    "\n",
    "sns.regplot(x=\"taille_en_pieds_carre\", y=\"prix\", data=data, ax=axes[0])\n",
    "\n",
    "sns.regplot(x=\"nb_chambres\", y=\"prix\", data=data, ax=axes[1])\n",
    "\n",
    "plt.show()"
   ]
  },
  {
   "cell_type": "code",
   "execution_count": null,
   "metadata": {},
   "outputs": [
    {
     "data": {
      "application/vnd.plotly.v1+json": {
       "config": {
        "plotlyServerURL": "https://plot.ly"
       },
       "data": [
        {
         "mode": "markers",
         "type": "scatter3d",
         "x": [
          2104,
          1600,
          2400,
          1416,
          3000,
          1985,
          1534,
          1427,
          1380,
          1494,
          1940,
          2000,
          1890,
          4478,
          1268,
          2300,
          1320,
          1236,
          2609,
          3031,
          1767,
          1888,
          1604,
          1962,
          3890,
          1100,
          1458,
          2526,
          2200,
          2637,
          1839,
          1000,
          2040,
          3137,
          1811,
          1437,
          1239,
          2132,
          4215,
          2162,
          1664,
          2238,
          2567,
          1200,
          852,
          1852,
          1203
         ],
         "y": [
          3,
          3,
          3,
          2,
          4,
          4,
          3,
          3,
          3,
          3,
          4,
          3,
          3,
          5,
          3,
          4,
          2,
          3,
          4,
          4,
          3,
          2,
          3,
          4,
          3,
          3,
          3,
          3,
          3,
          3,
          2,
          1,
          4,
          3,
          4,
          3,
          3,
          4,
          4,
          4,
          2,
          3,
          4,
          3,
          2,
          4,
          3
         ],
         "z": [
          399900,
          329900,
          369000,
          232000,
          539900,
          299900,
          314900,
          198999,
          212000,
          242500,
          239999,
          347000,
          329999,
          699900,
          259900,
          449900,
          299900,
          199900,
          499998,
          599000,
          252900,
          255000,
          242900,
          259900,
          573900,
          249900,
          464500,
          469000,
          475000,
          299900,
          349900,
          169900,
          314900,
          579900,
          285900,
          249900,
          229900,
          345000,
          549000,
          287000,
          368500,
          329900,
          314000,
          299000,
          179900,
          299900,
          239500
         ]
        }
       ],
       "layout": {
        "margin": {
         "b": 0,
         "l": 0,
         "r": 0,
         "t": 40
        },
        "scene": {
         "xaxis": {
          "title": {
           "text": "taille_en_pieds_carre"
          }
         },
         "yaxis": {
          "title": {
           "text": "nb_chambres"
          }
         },
         "zaxis": {
          "title": {
           "text": "prix"
          }
         }
        },
        "template": {
         "data": {
          "bar": [
           {
            "error_x": {
             "color": "#2a3f5f"
            },
            "error_y": {
             "color": "#2a3f5f"
            },
            "marker": {
             "line": {
              "color": "#E5ECF6",
              "width": 0.5
             },
             "pattern": {
              "fillmode": "overlay",
              "size": 10,
              "solidity": 0.2
             }
            },
            "type": "bar"
           }
          ],
          "barpolar": [
           {
            "marker": {
             "line": {
              "color": "#E5ECF6",
              "width": 0.5
             },
             "pattern": {
              "fillmode": "overlay",
              "size": 10,
              "solidity": 0.2
             }
            },
            "type": "barpolar"
           }
          ],
          "carpet": [
           {
            "aaxis": {
             "endlinecolor": "#2a3f5f",
             "gridcolor": "white",
             "linecolor": "white",
             "minorgridcolor": "white",
             "startlinecolor": "#2a3f5f"
            },
            "baxis": {
             "endlinecolor": "#2a3f5f",
             "gridcolor": "white",
             "linecolor": "white",
             "minorgridcolor": "white",
             "startlinecolor": "#2a3f5f"
            },
            "type": "carpet"
           }
          ],
          "choropleth": [
           {
            "colorbar": {
             "outlinewidth": 0,
             "ticks": ""
            },
            "type": "choropleth"
           }
          ],
          "contour": [
           {
            "colorbar": {
             "outlinewidth": 0,
             "ticks": ""
            },
            "colorscale": [
             [
              0,
              "#0d0887"
             ],
             [
              0.1111111111111111,
              "#46039f"
             ],
             [
              0.2222222222222222,
              "#7201a8"
             ],
             [
              0.3333333333333333,
              "#9c179e"
             ],
             [
              0.4444444444444444,
              "#bd3786"
             ],
             [
              0.5555555555555556,
              "#d8576b"
             ],
             [
              0.6666666666666666,
              "#ed7953"
             ],
             [
              0.7777777777777778,
              "#fb9f3a"
             ],
             [
              0.8888888888888888,
              "#fdca26"
             ],
             [
              1,
              "#f0f921"
             ]
            ],
            "type": "contour"
           }
          ],
          "contourcarpet": [
           {
            "colorbar": {
             "outlinewidth": 0,
             "ticks": ""
            },
            "type": "contourcarpet"
           }
          ],
          "heatmap": [
           {
            "colorbar": {
             "outlinewidth": 0,
             "ticks": ""
            },
            "colorscale": [
             [
              0,
              "#0d0887"
             ],
             [
              0.1111111111111111,
              "#46039f"
             ],
             [
              0.2222222222222222,
              "#7201a8"
             ],
             [
              0.3333333333333333,
              "#9c179e"
             ],
             [
              0.4444444444444444,
              "#bd3786"
             ],
             [
              0.5555555555555556,
              "#d8576b"
             ],
             [
              0.6666666666666666,
              "#ed7953"
             ],
             [
              0.7777777777777778,
              "#fb9f3a"
             ],
             [
              0.8888888888888888,
              "#fdca26"
             ],
             [
              1,
              "#f0f921"
             ]
            ],
            "type": "heatmap"
           }
          ],
          "heatmapgl": [
           {
            "colorbar": {
             "outlinewidth": 0,
             "ticks": ""
            },
            "colorscale": [
             [
              0,
              "#0d0887"
             ],
             [
              0.1111111111111111,
              "#46039f"
             ],
             [
              0.2222222222222222,
              "#7201a8"
             ],
             [
              0.3333333333333333,
              "#9c179e"
             ],
             [
              0.4444444444444444,
              "#bd3786"
             ],
             [
              0.5555555555555556,
              "#d8576b"
             ],
             [
              0.6666666666666666,
              "#ed7953"
             ],
             [
              0.7777777777777778,
              "#fb9f3a"
             ],
             [
              0.8888888888888888,
              "#fdca26"
             ],
             [
              1,
              "#f0f921"
             ]
            ],
            "type": "heatmapgl"
           }
          ],
          "histogram": [
           {
            "marker": {
             "pattern": {
              "fillmode": "overlay",
              "size": 10,
              "solidity": 0.2
             }
            },
            "type": "histogram"
           }
          ],
          "histogram2d": [
           {
            "colorbar": {
             "outlinewidth": 0,
             "ticks": ""
            },
            "colorscale": [
             [
              0,
              "#0d0887"
             ],
             [
              0.1111111111111111,
              "#46039f"
             ],
             [
              0.2222222222222222,
              "#7201a8"
             ],
             [
              0.3333333333333333,
              "#9c179e"
             ],
             [
              0.4444444444444444,
              "#bd3786"
             ],
             [
              0.5555555555555556,
              "#d8576b"
             ],
             [
              0.6666666666666666,
              "#ed7953"
             ],
             [
              0.7777777777777778,
              "#fb9f3a"
             ],
             [
              0.8888888888888888,
              "#fdca26"
             ],
             [
              1,
              "#f0f921"
             ]
            ],
            "type": "histogram2d"
           }
          ],
          "histogram2dcontour": [
           {
            "colorbar": {
             "outlinewidth": 0,
             "ticks": ""
            },
            "colorscale": [
             [
              0,
              "#0d0887"
             ],
             [
              0.1111111111111111,
              "#46039f"
             ],
             [
              0.2222222222222222,
              "#7201a8"
             ],
             [
              0.3333333333333333,
              "#9c179e"
             ],
             [
              0.4444444444444444,
              "#bd3786"
             ],
             [
              0.5555555555555556,
              "#d8576b"
             ],
             [
              0.6666666666666666,
              "#ed7953"
             ],
             [
              0.7777777777777778,
              "#fb9f3a"
             ],
             [
              0.8888888888888888,
              "#fdca26"
             ],
             [
              1,
              "#f0f921"
             ]
            ],
            "type": "histogram2dcontour"
           }
          ],
          "mesh3d": [
           {
            "colorbar": {
             "outlinewidth": 0,
             "ticks": ""
            },
            "type": "mesh3d"
           }
          ],
          "parcoords": [
           {
            "line": {
             "colorbar": {
              "outlinewidth": 0,
              "ticks": ""
             }
            },
            "type": "parcoords"
           }
          ],
          "pie": [
           {
            "automargin": true,
            "type": "pie"
           }
          ],
          "scatter": [
           {
            "fillpattern": {
             "fillmode": "overlay",
             "size": 10,
             "solidity": 0.2
            },
            "type": "scatter"
           }
          ],
          "scatter3d": [
           {
            "line": {
             "colorbar": {
              "outlinewidth": 0,
              "ticks": ""
             }
            },
            "marker": {
             "colorbar": {
              "outlinewidth": 0,
              "ticks": ""
             }
            },
            "type": "scatter3d"
           }
          ],
          "scattercarpet": [
           {
            "marker": {
             "colorbar": {
              "outlinewidth": 0,
              "ticks": ""
             }
            },
            "type": "scattercarpet"
           }
          ],
          "scattergeo": [
           {
            "marker": {
             "colorbar": {
              "outlinewidth": 0,
              "ticks": ""
             }
            },
            "type": "scattergeo"
           }
          ],
          "scattergl": [
           {
            "marker": {
             "colorbar": {
              "outlinewidth": 0,
              "ticks": ""
             }
            },
            "type": "scattergl"
           }
          ],
          "scattermapbox": [
           {
            "marker": {
             "colorbar": {
              "outlinewidth": 0,
              "ticks": ""
             }
            },
            "type": "scattermapbox"
           }
          ],
          "scatterpolar": [
           {
            "marker": {
             "colorbar": {
              "outlinewidth": 0,
              "ticks": ""
             }
            },
            "type": "scatterpolar"
           }
          ],
          "scatterpolargl": [
           {
            "marker": {
             "colorbar": {
              "outlinewidth": 0,
              "ticks": ""
             }
            },
            "type": "scatterpolargl"
           }
          ],
          "scatterternary": [
           {
            "marker": {
             "colorbar": {
              "outlinewidth": 0,
              "ticks": ""
             }
            },
            "type": "scatterternary"
           }
          ],
          "surface": [
           {
            "colorbar": {
             "outlinewidth": 0,
             "ticks": ""
            },
            "colorscale": [
             [
              0,
              "#0d0887"
             ],
             [
              0.1111111111111111,
              "#46039f"
             ],
             [
              0.2222222222222222,
              "#7201a8"
             ],
             [
              0.3333333333333333,
              "#9c179e"
             ],
             [
              0.4444444444444444,
              "#bd3786"
             ],
             [
              0.5555555555555556,
              "#d8576b"
             ],
             [
              0.6666666666666666,
              "#ed7953"
             ],
             [
              0.7777777777777778,
              "#fb9f3a"
             ],
             [
              0.8888888888888888,
              "#fdca26"
             ],
             [
              1,
              "#f0f921"
             ]
            ],
            "type": "surface"
           }
          ],
          "table": [
           {
            "cells": {
             "fill": {
              "color": "#EBF0F8"
             },
             "line": {
              "color": "white"
             }
            },
            "header": {
             "fill": {
              "color": "#C8D4E3"
             },
             "line": {
              "color": "white"
             }
            },
            "type": "table"
           }
          ]
         },
         "layout": {
          "annotationdefaults": {
           "arrowcolor": "#2a3f5f",
           "arrowhead": 0,
           "arrowwidth": 1
          },
          "autotypenumbers": "strict",
          "coloraxis": {
           "colorbar": {
            "outlinewidth": 0,
            "ticks": ""
           }
          },
          "colorscale": {
           "diverging": [
            [
             0,
             "#8e0152"
            ],
            [
             0.1,
             "#c51b7d"
            ],
            [
             0.2,
             "#de77ae"
            ],
            [
             0.3,
             "#f1b6da"
            ],
            [
             0.4,
             "#fde0ef"
            ],
            [
             0.5,
             "#f7f7f7"
            ],
            [
             0.6,
             "#e6f5d0"
            ],
            [
             0.7,
             "#b8e186"
            ],
            [
             0.8,
             "#7fbc41"
            ],
            [
             0.9,
             "#4d9221"
            ],
            [
             1,
             "#276419"
            ]
           ],
           "sequential": [
            [
             0,
             "#0d0887"
            ],
            [
             0.1111111111111111,
             "#46039f"
            ],
            [
             0.2222222222222222,
             "#7201a8"
            ],
            [
             0.3333333333333333,
             "#9c179e"
            ],
            [
             0.4444444444444444,
             "#bd3786"
            ],
            [
             0.5555555555555556,
             "#d8576b"
            ],
            [
             0.6666666666666666,
             "#ed7953"
            ],
            [
             0.7777777777777778,
             "#fb9f3a"
            ],
            [
             0.8888888888888888,
             "#fdca26"
            ],
            [
             1,
             "#f0f921"
            ]
           ],
           "sequentialminus": [
            [
             0,
             "#0d0887"
            ],
            [
             0.1111111111111111,
             "#46039f"
            ],
            [
             0.2222222222222222,
             "#7201a8"
            ],
            [
             0.3333333333333333,
             "#9c179e"
            ],
            [
             0.4444444444444444,
             "#bd3786"
            ],
            [
             0.5555555555555556,
             "#d8576b"
            ],
            [
             0.6666666666666666,
             "#ed7953"
            ],
            [
             0.7777777777777778,
             "#fb9f3a"
            ],
            [
             0.8888888888888888,
             "#fdca26"
            ],
            [
             1,
             "#f0f921"
            ]
           ]
          },
          "colorway": [
           "#636efa",
           "#EF553B",
           "#00cc96",
           "#ab63fa",
           "#FFA15A",
           "#19d3f3",
           "#FF6692",
           "#B6E880",
           "#FF97FF",
           "#FECB52"
          ],
          "font": {
           "color": "#2a3f5f"
          },
          "geo": {
           "bgcolor": "white",
           "lakecolor": "white",
           "landcolor": "#E5ECF6",
           "showlakes": true,
           "showland": true,
           "subunitcolor": "white"
          },
          "hoverlabel": {
           "align": "left"
          },
          "hovermode": "closest",
          "mapbox": {
           "style": "light"
          },
          "paper_bgcolor": "white",
          "plot_bgcolor": "#E5ECF6",
          "polar": {
           "angularaxis": {
            "gridcolor": "white",
            "linecolor": "white",
            "ticks": ""
           },
           "bgcolor": "#E5ECF6",
           "radialaxis": {
            "gridcolor": "white",
            "linecolor": "white",
            "ticks": ""
           }
          },
          "scene": {
           "xaxis": {
            "backgroundcolor": "#E5ECF6",
            "gridcolor": "white",
            "gridwidth": 2,
            "linecolor": "white",
            "showbackground": true,
            "ticks": "",
            "zerolinecolor": "white"
           },
           "yaxis": {
            "backgroundcolor": "#E5ECF6",
            "gridcolor": "white",
            "gridwidth": 2,
            "linecolor": "white",
            "showbackground": true,
            "ticks": "",
            "zerolinecolor": "white"
           },
           "zaxis": {
            "backgroundcolor": "#E5ECF6",
            "gridcolor": "white",
            "gridwidth": 2,
            "linecolor": "white",
            "showbackground": true,
            "ticks": "",
            "zerolinecolor": "white"
           }
          },
          "shapedefaults": {
           "line": {
            "color": "#2a3f5f"
           }
          },
          "ternary": {
           "aaxis": {
            "gridcolor": "white",
            "linecolor": "white",
            "ticks": ""
           },
           "baxis": {
            "gridcolor": "white",
            "linecolor": "white",
            "ticks": ""
           },
           "bgcolor": "#E5ECF6",
           "caxis": {
            "gridcolor": "white",
            "linecolor": "white",
            "ticks": ""
           }
          },
          "title": {
           "x": 0.05
          },
          "xaxis": {
           "automargin": true,
           "gridcolor": "white",
           "linecolor": "white",
           "ticks": "",
           "title": {
            "standoff": 15
           },
           "zerolinecolor": "white",
           "zerolinewidth": 2
          },
          "yaxis": {
           "automargin": true,
           "gridcolor": "white",
           "linecolor": "white",
           "ticks": "",
           "title": {
            "standoff": 15
           },
           "zerolinecolor": "white",
           "zerolinewidth": 2
          }
         }
        }
       }
      }
     },
     "metadata": {},
     "output_type": "display_data"
    }
   ],
   "source": [
    "fig = go.Figure()\n",
    "\n",
    "fig.add_trace(go.Scatter3d(x=data['taille_en_pieds_carre'], y=data['nb_chambres'], z=data['prix'],\n",
    "                           mode='markers'))\n",
    "\n",
    "fig.update_layout(scene=dict(xaxis_title='taille_en_pieds_carre',\n",
    "                             yaxis_title='nb_chambres',\n",
    "                             zaxis_title='prix'),\n",
    "                  margin=dict(l=0, r=0, b=0, t=40))"
   ]
  },
  {
   "cell_type": "markdown",
   "metadata": {},
   "source": [
    "## Modeling"
   ]
  },
  {
   "cell_type": "code",
   "execution_count": null,
   "metadata": {},
   "outputs": [
    {
     "name": "stdout",
     "output_type": "stream",
     "text": [
      "(47, 2) (47,)\n"
     ]
    }
   ],
   "source": [
    "X = data.iloc[:, :-1]\n",
    "y = data.iloc[:, -1]\n",
    "\n",
    "print(X.shape, y.shape)"
   ]
  },
  {
   "cell_type": "code",
   "execution_count": null,
   "metadata": {},
   "outputs": [
    {
     "data": {
      "text/plain": [
       "((37, 2), (10, 2), (37,), (10,))"
      ]
     },
     "execution_count": 17,
     "metadata": {},
     "output_type": "execute_result"
    }
   ],
   "source": [
    "X_train, X_test, y_train, y_test = train_test_split(X, y, test_size=0.2)\n",
    "\n",
    "X_train.shape, X_test.shape, y_train.shape, y_test.shape"
   ]
  },
  {
   "cell_type": "code",
   "execution_count": null,
   "metadata": {},
   "outputs": [
    {
     "data": {
      "text/html": [
       "<style>#sk-container-id-1 {color: black;background-color: white;}#sk-container-id-1 pre{padding: 0;}#sk-container-id-1 div.sk-toggleable {background-color: white;}#sk-container-id-1 label.sk-toggleable__label {cursor: pointer;display: block;width: 100%;margin-bottom: 0;padding: 0.3em;box-sizing: border-box;text-align: center;}#sk-container-id-1 label.sk-toggleable__label-arrow:before {content: \"▸\";float: left;margin-right: 0.25em;color: #696969;}#sk-container-id-1 label.sk-toggleable__label-arrow:hover:before {color: black;}#sk-container-id-1 div.sk-estimator:hover label.sk-toggleable__label-arrow:before {color: black;}#sk-container-id-1 div.sk-toggleable__content {max-height: 0;max-width: 0;overflow: hidden;text-align: left;background-color: #f0f8ff;}#sk-container-id-1 div.sk-toggleable__content pre {margin: 0.2em;color: black;border-radius: 0.25em;background-color: #f0f8ff;}#sk-container-id-1 input.sk-toggleable__control:checked~div.sk-toggleable__content {max-height: 200px;max-width: 100%;overflow: auto;}#sk-container-id-1 input.sk-toggleable__control:checked~label.sk-toggleable__label-arrow:before {content: \"▾\";}#sk-container-id-1 div.sk-estimator input.sk-toggleable__control:checked~label.sk-toggleable__label {background-color: #d4ebff;}#sk-container-id-1 div.sk-label input.sk-toggleable__control:checked~label.sk-toggleable__label {background-color: #d4ebff;}#sk-container-id-1 input.sk-hidden--visually {border: 0;clip: rect(1px 1px 1px 1px);clip: rect(1px, 1px, 1px, 1px);height: 1px;margin: -1px;overflow: hidden;padding: 0;position: absolute;width: 1px;}#sk-container-id-1 div.sk-estimator {font-family: monospace;background-color: #f0f8ff;border: 1px dotted black;border-radius: 0.25em;box-sizing: border-box;margin-bottom: 0.5em;}#sk-container-id-1 div.sk-estimator:hover {background-color: #d4ebff;}#sk-container-id-1 div.sk-parallel-item::after {content: \"\";width: 100%;border-bottom: 1px solid gray;flex-grow: 1;}#sk-container-id-1 div.sk-label:hover label.sk-toggleable__label {background-color: #d4ebff;}#sk-container-id-1 div.sk-serial::before {content: \"\";position: absolute;border-left: 1px solid gray;box-sizing: border-box;top: 0;bottom: 0;left: 50%;z-index: 0;}#sk-container-id-1 div.sk-serial {display: flex;flex-direction: column;align-items: center;background-color: white;padding-right: 0.2em;padding-left: 0.2em;position: relative;}#sk-container-id-1 div.sk-item {position: relative;z-index: 1;}#sk-container-id-1 div.sk-parallel {display: flex;align-items: stretch;justify-content: center;background-color: white;position: relative;}#sk-container-id-1 div.sk-item::before, #sk-container-id-1 div.sk-parallel-item::before {content: \"\";position: absolute;border-left: 1px solid gray;box-sizing: border-box;top: 0;bottom: 0;left: 50%;z-index: -1;}#sk-container-id-1 div.sk-parallel-item {display: flex;flex-direction: column;z-index: 1;position: relative;background-color: white;}#sk-container-id-1 div.sk-parallel-item:first-child::after {align-self: flex-end;width: 50%;}#sk-container-id-1 div.sk-parallel-item:last-child::after {align-self: flex-start;width: 50%;}#sk-container-id-1 div.sk-parallel-item:only-child::after {width: 0;}#sk-container-id-1 div.sk-dashed-wrapped {border: 1px dashed gray;margin: 0 0.4em 0.5em 0.4em;box-sizing: border-box;padding-bottom: 0.4em;background-color: white;}#sk-container-id-1 div.sk-label label {font-family: monospace;font-weight: bold;display: inline-block;line-height: 1.2em;}#sk-container-id-1 div.sk-label-container {text-align: center;}#sk-container-id-1 div.sk-container {/* jupyter's `normalize.less` sets `[hidden] { display: none; }` but bootstrap.min.css set `[hidden] { display: none !important; }` so we also need the `!important` here to be able to override the default hidden behavior on the sphinx rendered scikit-learn.org. See: https://github.com/scikit-learn/scikit-learn/issues/21755 */display: inline-block !important;position: relative;}#sk-container-id-1 div.sk-text-repr-fallback {display: none;}</style><div id=\"sk-container-id-1\" class=\"sk-top-container\"><div class=\"sk-text-repr-fallback\"><pre>LinearRegression()</pre><b>In a Jupyter environment, please rerun this cell to show the HTML representation or trust the notebook. <br />On GitHub, the HTML representation is unable to render, please try loading this page with nbviewer.org.</b></div><div class=\"sk-container\" hidden><div class=\"sk-item\"><div class=\"sk-estimator sk-toggleable\"><input class=\"sk-toggleable__control sk-hidden--visually\" id=\"sk-estimator-id-1\" type=\"checkbox\" checked><label for=\"sk-estimator-id-1\" class=\"sk-toggleable__label sk-toggleable__label-arrow\">LinearRegression</label><div class=\"sk-toggleable__content\"><pre>LinearRegression()</pre></div></div></div></div></div>"
      ],
      "text/plain": [
       "LinearRegression()"
      ]
     },
     "execution_count": 19,
     "metadata": {},
     "output_type": "execute_result"
    }
   ],
   "source": [
    "mlr = LinearRegression()\n",
    "\n",
    "mlr.fit(X_train, y_train)"
   ]
  },
  {
   "cell_type": "markdown",
   "metadata": {},
   "source": [
    "## Evaluation"
   ]
  },
  {
   "cell_type": "code",
   "execution_count": null,
   "metadata": {},
   "outputs": [
    {
     "name": "stdout",
     "output_type": "stream",
     "text": [
      "The training score:  0.6167939731293637\n",
      "The testing score:  0.8137200145431086\n"
     ]
    }
   ],
   "source": [
    "print(\"The training score: \", mlr.score(X_train, y_train))\n",
    "print(\"The testing score: \", mlr.score(X_test, y_test))"
   ]
  },
  {
   "cell_type": "code",
   "execution_count": null,
   "metadata": {},
   "outputs": [],
   "source": [
    "predicted_price = mlr.predict(data.iloc[:, :-1])"
   ]
  },
  {
   "cell_type": "code",
   "execution_count": null,
   "metadata": {},
   "outputs": [
    {
     "name": "stderr",
     "output_type": "stream",
     "text": [
      "c:\\Users\\admin\\Desktop\\My Projects\\my_env\\Lib\\site-packages\\sklearn\\base.py:439: UserWarning:\n",
      "\n",
      "X does not have valid feature names, but LinearRegression was fitted with feature names\n",
      "\n"
     ]
    },
    {
     "data": {
      "application/vnd.plotly.v1+json": {
       "config": {
        "plotlyServerURL": "https://plot.ly"
       },
       "data": [
        {
         "mode": "markers",
         "type": "scatter3d",
         "x": [
          2104,
          1600,
          2400,
          1416,
          3000,
          1985,
          1534,
          1427,
          1380,
          1494,
          1940,
          2000,
          1890,
          4478,
          1268,
          2300,
          1320,
          1236,
          2609,
          3031,
          1767,
          1888,
          1604,
          1962,
          3890,
          1100,
          1458,
          2526,
          2200,
          2637,
          1839,
          1000,
          2040,
          3137,
          1811,
          1437,
          1239,
          2132,
          4215,
          2162,
          1664,
          2238,
          2567,
          1200,
          852,
          1852,
          1203
         ],
         "y": [
          3,
          3,
          3,
          2,
          4,
          4,
          3,
          3,
          3,
          3,
          4,
          3,
          3,
          5,
          3,
          4,
          2,
          3,
          4,
          4,
          3,
          2,
          3,
          4,
          3,
          3,
          3,
          3,
          3,
          3,
          2,
          1,
          4,
          3,
          4,
          3,
          3,
          4,
          4,
          4,
          2,
          3,
          4,
          3,
          2,
          4,
          3
         ],
         "z": [
          399900,
          329900,
          369000,
          232000,
          539900,
          299900,
          314900,
          198999,
          212000,
          242500,
          239999,
          347000,
          329999,
          699900,
          259900,
          449900,
          299900,
          199900,
          499998,
          599000,
          252900,
          255000,
          242900,
          259900,
          573900,
          249900,
          464500,
          469000,
          475000,
          299900,
          349900,
          169900,
          314900,
          579900,
          285900,
          249900,
          229900,
          345000,
          549000,
          287000,
          368500,
          329900,
          314000,
          299000,
          179900,
          299900,
          239500
         ]
        },
        {
         "colorscale": [
          [
           0,
           "rgb(255,245,240)"
          ],
          [
           0.125,
           "rgb(254,224,210)"
          ],
          [
           0.25,
           "rgb(252,187,161)"
          ],
          [
           0.375,
           "rgb(252,146,114)"
          ],
          [
           0.5,
           "rgb(251,106,74)"
          ],
          [
           0.625,
           "rgb(239,59,44)"
          ],
          [
           0.75,
           "rgb(203,24,29)"
          ],
          [
           0.875,
           "rgb(165,15,21)"
          ],
          [
           1,
           "rgb(103,0,13)"
          ]
         ],
         "name": "Mlr",
         "opacity": 0.7,
         "type": "surface",
         "x": [
          2104,
          1600,
          2400,
          1416,
          3000,
          1985,
          1534,
          1427,
          1380,
          1494,
          1940,
          2000,
          1890,
          4478,
          1268,
          2300,
          1320,
          1236,
          2609,
          3031,
          1767,
          1888,
          1604,
          1962,
          3890,
          1100,
          1458,
          2526,
          2200,
          2637,
          1839,
          1000,
          2040,
          3137,
          1811,
          1437,
          1239,
          2132,
          4215,
          2162,
          1664,
          2238,
          2567,
          1200,
          852,
          1852,
          1203
         ],
         "y": [
          3,
          3,
          3,
          2,
          4,
          4,
          3,
          3,
          3,
          3,
          4,
          3,
          3,
          5,
          3,
          4,
          2,
          3,
          4,
          4,
          3,
          2,
          3,
          4,
          3,
          3,
          3,
          3,
          3,
          3,
          2,
          1,
          4,
          3,
          4,
          3,
          3,
          4,
          4,
          4,
          2,
          3,
          4,
          3,
          2,
          4,
          3
         ],
         "z": [
          [
           348673.0256252752,
           286839.57643020607,
           384987.9084858714,
           264265.460057403,
           458599.15752762044,
           334073.461231995,
           278742.3390356137,
           265614.99962316843,
           259848.78511489808,
           273834.92243283044,
           328552.6175538638,
           335913.74245803873,
           322418.34680038475,
           639928.201000462,
           246108.01862710493,
           372719.3669789132,
           252487.66021072317,
           242182.08534487832,
           410629.160235414,
           462402.4053947774,
           307328.0407468262,
           322172.97597024555,
           287330.31809048436,
           331251.6966853946,
           567789.1769395481,
           225496.86889541522,
           269418.2474903255,
           400446.2707846387,
           360450.82547195506,
           414064.35185736226,
           316161.3906318361,
           213228.32738845705,
           340821.159060822,
           475407.0593921531,
           312726.19900988776,
           266841.8537738642,
           242550.1415900871,
           352108.2172472235,
           607661.9368371621,
           355788.77969931095,
           294691.4429946593,
           365112.87124459917,
           405476.37280249153,
           237765.41040237338,
           195070.88595815896,
           317756.30102774064,
           238133.46664758213
          ],
          [
           348673.0256252752,
           286839.57643020607,
           384987.9084858714,
           264265.460057403,
           458599.15752762044,
           334073.461231995,
           278742.3390356137,
           265614.99962316843,
           259848.78511489808,
           273834.92243283044,
           328552.6175538638,
           335913.74245803873,
           322418.34680038475,
           639928.201000462,
           246108.01862710493,
           372719.3669789132,
           252487.66021072317,
           242182.08534487832,
           410629.160235414,
           462402.4053947774,
           307328.0407468262,
           322172.97597024555,
           287330.31809048436,
           331251.6966853946,
           567789.1769395481,
           225496.86889541522,
           269418.2474903255,
           400446.2707846387,
           360450.82547195506,
           414064.35185736226,
           316161.3906318361,
           213228.32738845705,
           340821.159060822,
           475407.0593921531,
           312726.19900988776,
           266841.8537738642,
           242550.1415900871,
           352108.2172472235,
           607661.9368371621,
           355788.77969931095,
           294691.4429946593,
           365112.87124459917,
           405476.37280249153,
           237765.41040237338,
           195070.88595815896,
           317756.30102774064,
           238133.46664758213
          ],
          [
           348673.0256252752,
           286839.57643020607,
           384987.9084858714,
           264265.460057403,
           458599.15752762044,
           334073.461231995,
           278742.3390356137,
           265614.99962316843,
           259848.78511489808,
           273834.92243283044,
           328552.6175538638,
           335913.74245803873,
           322418.34680038475,
           639928.201000462,
           246108.01862710493,
           372719.3669789132,
           252487.66021072317,
           242182.08534487832,
           410629.160235414,
           462402.4053947774,
           307328.0407468262,
           322172.97597024555,
           287330.31809048436,
           331251.6966853946,
           567789.1769395481,
           225496.86889541522,
           269418.2474903255,
           400446.2707846387,
           360450.82547195506,
           414064.35185736226,
           316161.3906318361,
           213228.32738845705,
           340821.159060822,
           475407.0593921531,
           312726.19900988776,
           266841.8537738642,
           242550.1415900871,
           352108.2172472235,
           607661.9368371621,
           355788.77969931095,
           294691.4429946593,
           365112.87124459917,
           405476.37280249153,
           237765.41040237338,
           195070.88595815896,
           317756.30102774064,
           238133.46664758213
          ],
          [
           362128.0891636689,
           300294.6399685998,
           398442.9720242651,
           277720.5235957967,
           472054.2210660141,
           347528.5247703887,
           292197.40257400734,
           279070.0631615621,
           273303.84865329176,
           287289.9859712241,
           342007.6810922575,
           349368.80599643243,
           335873.4103387784,
           653383.2645388558,
           259563.08216549864,
           386174.4305173069,
           265942.7237491169,
           255637.14888327202,
           424084.22377380764,
           475857.4689331711,
           320783.1042852199,
           335628.03950863925,
           300785.38162887807,
           344706.7602237883,
           581244.2404779418,
           238951.93243380892,
           282873.3110287192,
           413901.33432303235,
           373905.88901034876,
           427519.41539575596,
           329616.4541702297,
           226683.39092685073,
           354276.2225992157,
           488862.12293054676,
           326181.26254828146,
           280296.9173122579,
           256005.20512848074,
           365563.2807856172,
           621117.0003755558,
           369243.84323770466,
           308146.506533053,
           378567.9347829928,
           418931.43634088524,
           251220.47394076706,
           208525.94949655264,
           331211.3645661343,
           251588.53018597583
          ],
          [
           335217.9620868815,
           273384.51289181237,
           371532.8449474777,
           250810.39651900934,
           445144.09398922673,
           320618.3976936013,
           265287.27549722,
           252159.93608477473,
           246393.7215765044,
           260379.8588944367,
           315097.55401547014,
           322458.678919645,
           308963.28326199105,
           626473.1374620685,
           232652.95508871126,
           359264.30344051955,
           239032.5966723295,
           228727.02180648464,
           397174.0966970203,
           448947.3418563838,
           293872.9772084325,
           308717.9124318519,
           273875.25455209066,
           317796.6331470009,
           554334.1134011544,
           212041.8053570215,
           255963.18395193177,
           386991.207246245,
           346995.7619335614,
           400609.28831896855,
           302706.3270934424,
           199773.26385006338,
           327366.0955224283,
           461951.9958537594,
           299271.1354714941,
           253386.79023547057,
           229095.0780516934,
           338653.15370882984,
           594206.8732987684,
           342333.7161609173,
           281236.3794562656,
           351657.8077062055,
           392021.3092640978,
           224310.3468639797,
           181615.8224197653,
           304301.237489347,
           224678.40310918842
          ],
          [
           335217.9620868815,
           273384.51289181237,
           371532.8449474777,
           250810.39651900934,
           445144.09398922673,
           320618.3976936013,
           265287.27549722,
           252159.93608477473,
           246393.7215765044,
           260379.8588944367,
           315097.55401547014,
           322458.678919645,
           308963.28326199105,
           626473.1374620685,
           232652.95508871126,
           359264.30344051955,
           239032.5966723295,
           228727.02180648464,
           397174.0966970203,
           448947.3418563838,
           293872.9772084325,
           308717.9124318519,
           273875.25455209066,
           317796.6331470009,
           554334.1134011544,
           212041.8053570215,
           255963.18395193177,
           386991.207246245,
           346995.7619335614,
           400609.28831896855,
           302706.3270934424,
           199773.26385006338,
           327366.0955224283,
           461951.9958537594,
           299271.1354714941,
           253386.79023547057,
           229095.0780516934,
           338653.15370882984,
           594206.8732987684,
           342333.7161609173,
           281236.3794562656,
           351657.8077062055,
           392021.3092640978,
           224310.3468639797,
           181615.8224197653,
           304301.237489347,
           224678.40310918842
          ],
          [
           348673.0256252752,
           286839.57643020607,
           384987.9084858714,
           264265.460057403,
           458599.15752762044,
           334073.461231995,
           278742.3390356137,
           265614.99962316843,
           259848.78511489808,
           273834.92243283044,
           328552.6175538638,
           335913.74245803873,
           322418.34680038475,
           639928.201000462,
           246108.01862710493,
           372719.3669789132,
           252487.66021072317,
           242182.08534487832,
           410629.160235414,
           462402.4053947774,
           307328.0407468262,
           322172.97597024555,
           287330.31809048436,
           331251.6966853946,
           567789.1769395481,
           225496.86889541522,
           269418.2474903255,
           400446.2707846387,
           360450.82547195506,
           414064.35185736226,
           316161.3906318361,
           213228.32738845705,
           340821.159060822,
           475407.0593921531,
           312726.19900988776,
           266841.8537738642,
           242550.1415900871,
           352108.2172472235,
           607661.9368371621,
           355788.77969931095,
           294691.4429946593,
           365112.87124459917,
           405476.37280249153,
           237765.41040237338,
           195070.88595815896,
           317756.30102774064,
           238133.46664758213
          ],
          [
           348673.0256252752,
           286839.57643020607,
           384987.9084858714,
           264265.460057403,
           458599.15752762044,
           334073.461231995,
           278742.3390356137,
           265614.99962316843,
           259848.78511489808,
           273834.92243283044,
           328552.6175538638,
           335913.74245803873,
           322418.34680038475,
           639928.201000462,
           246108.01862710493,
           372719.3669789132,
           252487.66021072317,
           242182.08534487832,
           410629.160235414,
           462402.4053947774,
           307328.0407468262,
           322172.97597024555,
           287330.31809048436,
           331251.6966853946,
           567789.1769395481,
           225496.86889541522,
           269418.2474903255,
           400446.2707846387,
           360450.82547195506,
           414064.35185736226,
           316161.3906318361,
           213228.32738845705,
           340821.159060822,
           475407.0593921531,
           312726.19900988776,
           266841.8537738642,
           242550.1415900871,
           352108.2172472235,
           607661.9368371621,
           355788.77969931095,
           294691.4429946593,
           365112.87124459917,
           405476.37280249153,
           237765.41040237338,
           195070.88595815896,
           317756.30102774064,
           238133.46664758213
          ],
          [
           348673.0256252752,
           286839.57643020607,
           384987.9084858714,
           264265.460057403,
           458599.15752762044,
           334073.461231995,
           278742.3390356137,
           265614.99962316843,
           259848.78511489808,
           273834.92243283044,
           328552.6175538638,
           335913.74245803873,
           322418.34680038475,
           639928.201000462,
           246108.01862710493,
           372719.3669789132,
           252487.66021072317,
           242182.08534487832,
           410629.160235414,
           462402.4053947774,
           307328.0407468262,
           322172.97597024555,
           287330.31809048436,
           331251.6966853946,
           567789.1769395481,
           225496.86889541522,
           269418.2474903255,
           400446.2707846387,
           360450.82547195506,
           414064.35185736226,
           316161.3906318361,
           213228.32738845705,
           340821.159060822,
           475407.0593921531,
           312726.19900988776,
           266841.8537738642,
           242550.1415900871,
           352108.2172472235,
           607661.9368371621,
           355788.77969931095,
           294691.4429946593,
           365112.87124459917,
           405476.37280249153,
           237765.41040237338,
           195070.88595815896,
           317756.30102774064,
           238133.46664758213
          ],
          [
           348673.0256252752,
           286839.57643020607,
           384987.9084858714,
           264265.460057403,
           458599.15752762044,
           334073.461231995,
           278742.3390356137,
           265614.99962316843,
           259848.78511489808,
           273834.92243283044,
           328552.6175538638,
           335913.74245803873,
           322418.34680038475,
           639928.201000462,
           246108.01862710493,
           372719.3669789132,
           252487.66021072317,
           242182.08534487832,
           410629.160235414,
           462402.4053947774,
           307328.0407468262,
           322172.97597024555,
           287330.31809048436,
           331251.6966853946,
           567789.1769395481,
           225496.86889541522,
           269418.2474903255,
           400446.2707846387,
           360450.82547195506,
           414064.35185736226,
           316161.3906318361,
           213228.32738845705,
           340821.159060822,
           475407.0593921531,
           312726.19900988776,
           266841.8537738642,
           242550.1415900871,
           352108.2172472235,
           607661.9368371621,
           355788.77969931095,
           294691.4429946593,
           365112.87124459917,
           405476.37280249153,
           237765.41040237338,
           195070.88595815896,
           317756.30102774064,
           238133.46664758213
          ],
          [
           335217.9620868815,
           273384.51289181237,
           371532.8449474777,
           250810.39651900934,
           445144.09398922673,
           320618.3976936013,
           265287.27549722,
           252159.93608477473,
           246393.7215765044,
           260379.8588944367,
           315097.55401547014,
           322458.678919645,
           308963.28326199105,
           626473.1374620685,
           232652.95508871126,
           359264.30344051955,
           239032.5966723295,
           228727.02180648464,
           397174.0966970203,
           448947.3418563838,
           293872.9772084325,
           308717.9124318519,
           273875.25455209066,
           317796.6331470009,
           554334.1134011544,
           212041.8053570215,
           255963.18395193177,
           386991.207246245,
           346995.7619335614,
           400609.28831896855,
           302706.3270934424,
           199773.26385006338,
           327366.0955224283,
           461951.9958537594,
           299271.1354714941,
           253386.79023547057,
           229095.0780516934,
           338653.15370882984,
           594206.8732987684,
           342333.7161609173,
           281236.3794562656,
           351657.8077062055,
           392021.3092640978,
           224310.3468639797,
           181615.8224197653,
           304301.237489347,
           224678.40310918842
          ],
          [
           348673.0256252752,
           286839.57643020607,
           384987.9084858714,
           264265.460057403,
           458599.15752762044,
           334073.461231995,
           278742.3390356137,
           265614.99962316843,
           259848.78511489808,
           273834.92243283044,
           328552.6175538638,
           335913.74245803873,
           322418.34680038475,
           639928.201000462,
           246108.01862710493,
           372719.3669789132,
           252487.66021072317,
           242182.08534487832,
           410629.160235414,
           462402.4053947774,
           307328.0407468262,
           322172.97597024555,
           287330.31809048436,
           331251.6966853946,
           567789.1769395481,
           225496.86889541522,
           269418.2474903255,
           400446.2707846387,
           360450.82547195506,
           414064.35185736226,
           316161.3906318361,
           213228.32738845705,
           340821.159060822,
           475407.0593921531,
           312726.19900988776,
           266841.8537738642,
           242550.1415900871,
           352108.2172472235,
           607661.9368371621,
           355788.77969931095,
           294691.4429946593,
           365112.87124459917,
           405476.37280249153,
           237765.41040237338,
           195070.88595815896,
           317756.30102774064,
           238133.46664758213
          ],
          [
           348673.0256252752,
           286839.57643020607,
           384987.9084858714,
           264265.460057403,
           458599.15752762044,
           334073.461231995,
           278742.3390356137,
           265614.99962316843,
           259848.78511489808,
           273834.92243283044,
           328552.6175538638,
           335913.74245803873,
           322418.34680038475,
           639928.201000462,
           246108.01862710493,
           372719.3669789132,
           252487.66021072317,
           242182.08534487832,
           410629.160235414,
           462402.4053947774,
           307328.0407468262,
           322172.97597024555,
           287330.31809048436,
           331251.6966853946,
           567789.1769395481,
           225496.86889541522,
           269418.2474903255,
           400446.2707846387,
           360450.82547195506,
           414064.35185736226,
           316161.3906318361,
           213228.32738845705,
           340821.159060822,
           475407.0593921531,
           312726.19900988776,
           266841.8537738642,
           242550.1415900871,
           352108.2172472235,
           607661.9368371621,
           355788.77969931095,
           294691.4429946593,
           365112.87124459917,
           405476.37280249153,
           237765.41040237338,
           195070.88595815896,
           317756.30102774064,
           238133.46664758213
          ],
          [
           321762.8985484878,
           259929.44935341866,
           358077.781409084,
           237355.33298061567,
           431689.03045083303,
           307163.3341552076,
           251832.2119588263,
           238704.87254638106,
           232938.6580381107,
           246924.79535604303,
           301642.49047707644,
           309003.6153812513,
           295508.2197235974,
           613018.0739236748,
           219197.89155031758,
           345809.23990212585,
           225577.53313393582,
           215271.95826809097,
           383719.0331586266,
           435492.2783179901,
           280417.9136700388,
           295262.8488934582,
           260420.191013697,
           304341.5696086072,
           540879.0498627607,
           198586.74181862784,
           242508.12041353807,
           373536.1437078513,
           333540.6983951677,
           387154.2247805749,
           289251.26355504873,
           186318.20031166967,
           313911.03198403463,
           448496.9323153657,
           285816.0719331004,
           239931.72669707687,
           215640.01451329968,
           325198.09017043613,
           580751.8097603747,
           328878.6526225236,
           267781.3159178719,
           338202.7441678118,
           378566.2457257041,
           210855.283325586,
           168160.75888137158,
           290846.1739509533,
           211223.33957079475
          ],
          [
           348673.0256252752,
           286839.57643020607,
           384987.9084858714,
           264265.460057403,
           458599.15752762044,
           334073.461231995,
           278742.3390356137,
           265614.99962316843,
           259848.78511489808,
           273834.92243283044,
           328552.6175538638,
           335913.74245803873,
           322418.34680038475,
           639928.201000462,
           246108.01862710493,
           372719.3669789132,
           252487.66021072317,
           242182.08534487832,
           410629.160235414,
           462402.4053947774,
           307328.0407468262,
           322172.97597024555,
           287330.31809048436,
           331251.6966853946,
           567789.1769395481,
           225496.86889541522,
           269418.2474903255,
           400446.2707846387,
           360450.82547195506,
           414064.35185736226,
           316161.3906318361,
           213228.32738845705,
           340821.159060822,
           475407.0593921531,
           312726.19900988776,
           266841.8537738642,
           242550.1415900871,
           352108.2172472235,
           607661.9368371621,
           355788.77969931095,
           294691.4429946593,
           365112.87124459917,
           405476.37280249153,
           237765.41040237338,
           195070.88595815896,
           317756.30102774064,
           238133.46664758213
          ],
          [
           335217.9620868815,
           273384.51289181237,
           371532.8449474777,
           250810.39651900934,
           445144.09398922673,
           320618.3976936013,
           265287.27549722,
           252159.93608477473,
           246393.7215765044,
           260379.8588944367,
           315097.55401547014,
           322458.678919645,
           308963.28326199105,
           626473.1374620685,
           232652.95508871126,
           359264.30344051955,
           239032.5966723295,
           228727.02180648464,
           397174.0966970203,
           448947.3418563838,
           293872.9772084325,
           308717.9124318519,
           273875.25455209066,
           317796.6331470009,
           554334.1134011544,
           212041.8053570215,
           255963.18395193177,
           386991.207246245,
           346995.7619335614,
           400609.28831896855,
           302706.3270934424,
           199773.26385006338,
           327366.0955224283,
           461951.9958537594,
           299271.1354714941,
           253386.79023547057,
           229095.0780516934,
           338653.15370882984,
           594206.8732987684,
           342333.7161609173,
           281236.3794562656,
           351657.8077062055,
           392021.3092640978,
           224310.3468639797,
           181615.8224197653,
           304301.237489347,
           224678.40310918842
          ],
          [
           362128.0891636689,
           300294.6399685998,
           398442.9720242651,
           277720.5235957967,
           472054.2210660141,
           347528.5247703887,
           292197.40257400734,
           279070.0631615621,
           273303.84865329176,
           287289.9859712241,
           342007.6810922575,
           349368.80599643243,
           335873.4103387784,
           653383.2645388558,
           259563.08216549864,
           386174.4305173069,
           265942.7237491169,
           255637.14888327202,
           424084.22377380764,
           475857.4689331711,
           320783.1042852199,
           335628.03950863925,
           300785.38162887807,
           344706.7602237883,
           581244.2404779418,
           238951.93243380892,
           282873.3110287192,
           413901.33432303235,
           373905.88901034876,
           427519.41539575596,
           329616.4541702297,
           226683.39092685073,
           354276.2225992157,
           488862.12293054676,
           326181.26254828146,
           280296.9173122579,
           256005.20512848074,
           365563.2807856172,
           621117.0003755558,
           369243.84323770466,
           308146.506533053,
           378567.9347829928,
           418931.43634088524,
           251220.47394076706,
           208525.94949655264,
           331211.3645661343,
           251588.53018597583
          ],
          [
           348673.0256252752,
           286839.57643020607,
           384987.9084858714,
           264265.460057403,
           458599.15752762044,
           334073.461231995,
           278742.3390356137,
           265614.99962316843,
           259848.78511489808,
           273834.92243283044,
           328552.6175538638,
           335913.74245803873,
           322418.34680038475,
           639928.201000462,
           246108.01862710493,
           372719.3669789132,
           252487.66021072317,
           242182.08534487832,
           410629.160235414,
           462402.4053947774,
           307328.0407468262,
           322172.97597024555,
           287330.31809048436,
           331251.6966853946,
           567789.1769395481,
           225496.86889541522,
           269418.2474903255,
           400446.2707846387,
           360450.82547195506,
           414064.35185736226,
           316161.3906318361,
           213228.32738845705,
           340821.159060822,
           475407.0593921531,
           312726.19900988776,
           266841.8537738642,
           242550.1415900871,
           352108.2172472235,
           607661.9368371621,
           355788.77969931095,
           294691.4429946593,
           365112.87124459917,
           405476.37280249153,
           237765.41040237338,
           195070.88595815896,
           317756.30102774064,
           238133.46664758213
          ],
          [
           335217.9620868815,
           273384.51289181237,
           371532.8449474777,
           250810.39651900934,
           445144.09398922673,
           320618.3976936013,
           265287.27549722,
           252159.93608477473,
           246393.7215765044,
           260379.8588944367,
           315097.55401547014,
           322458.678919645,
           308963.28326199105,
           626473.1374620685,
           232652.95508871126,
           359264.30344051955,
           239032.5966723295,
           228727.02180648464,
           397174.0966970203,
           448947.3418563838,
           293872.9772084325,
           308717.9124318519,
           273875.25455209066,
           317796.6331470009,
           554334.1134011544,
           212041.8053570215,
           255963.18395193177,
           386991.207246245,
           346995.7619335614,
           400609.28831896855,
           302706.3270934424,
           199773.26385006338,
           327366.0955224283,
           461951.9958537594,
           299271.1354714941,
           253386.79023547057,
           229095.0780516934,
           338653.15370882984,
           594206.8732987684,
           342333.7161609173,
           281236.3794562656,
           351657.8077062055,
           392021.3092640978,
           224310.3468639797,
           181615.8224197653,
           304301.237489347,
           224678.40310918842
          ],
          [
           335217.9620868815,
           273384.51289181237,
           371532.8449474777,
           250810.39651900934,
           445144.09398922673,
           320618.3976936013,
           265287.27549722,
           252159.93608477473,
           246393.7215765044,
           260379.8588944367,
           315097.55401547014,
           322458.678919645,
           308963.28326199105,
           626473.1374620685,
           232652.95508871126,
           359264.30344051955,
           239032.5966723295,
           228727.02180648464,
           397174.0966970203,
           448947.3418563838,
           293872.9772084325,
           308717.9124318519,
           273875.25455209066,
           317796.6331470009,
           554334.1134011544,
           212041.8053570215,
           255963.18395193177,
           386991.207246245,
           346995.7619335614,
           400609.28831896855,
           302706.3270934424,
           199773.26385006338,
           327366.0955224283,
           461951.9958537594,
           299271.1354714941,
           253386.79023547057,
           229095.0780516934,
           338653.15370882984,
           594206.8732987684,
           342333.7161609173,
           281236.3794562656,
           351657.8077062055,
           392021.3092640978,
           224310.3468639797,
           181615.8224197653,
           304301.237489347,
           224678.40310918842
          ],
          [
           348673.0256252752,
           286839.57643020607,
           384987.9084858714,
           264265.460057403,
           458599.15752762044,
           334073.461231995,
           278742.3390356137,
           265614.99962316843,
           259848.78511489808,
           273834.92243283044,
           328552.6175538638,
           335913.74245803873,
           322418.34680038475,
           639928.201000462,
           246108.01862710493,
           372719.3669789132,
           252487.66021072317,
           242182.08534487832,
           410629.160235414,
           462402.4053947774,
           307328.0407468262,
           322172.97597024555,
           287330.31809048436,
           331251.6966853946,
           567789.1769395481,
           225496.86889541522,
           269418.2474903255,
           400446.2707846387,
           360450.82547195506,
           414064.35185736226,
           316161.3906318361,
           213228.32738845705,
           340821.159060822,
           475407.0593921531,
           312726.19900988776,
           266841.8537738642,
           242550.1415900871,
           352108.2172472235,
           607661.9368371621,
           355788.77969931095,
           294691.4429946593,
           365112.87124459917,
           405476.37280249153,
           237765.41040237338,
           195070.88595815896,
           317756.30102774064,
           238133.46664758213
          ],
          [
           362128.0891636689,
           300294.6399685998,
           398442.9720242651,
           277720.5235957967,
           472054.2210660141,
           347528.5247703887,
           292197.40257400734,
           279070.0631615621,
           273303.84865329176,
           287289.9859712241,
           342007.6810922575,
           349368.80599643243,
           335873.4103387784,
           653383.2645388558,
           259563.08216549864,
           386174.4305173069,
           265942.7237491169,
           255637.14888327202,
           424084.22377380764,
           475857.4689331711,
           320783.1042852199,
           335628.03950863925,
           300785.38162887807,
           344706.7602237883,
           581244.2404779418,
           238951.93243380892,
           282873.3110287192,
           413901.33432303235,
           373905.88901034876,
           427519.41539575596,
           329616.4541702297,
           226683.39092685073,
           354276.2225992157,
           488862.12293054676,
           326181.26254828146,
           280296.9173122579,
           256005.20512848074,
           365563.2807856172,
           621117.0003755558,
           369243.84323770466,
           308146.506533053,
           378567.9347829928,
           418931.43634088524,
           251220.47394076706,
           208525.94949655264,
           331211.3645661343,
           251588.53018597583
          ],
          [
           348673.0256252752,
           286839.57643020607,
           384987.9084858714,
           264265.460057403,
           458599.15752762044,
           334073.461231995,
           278742.3390356137,
           265614.99962316843,
           259848.78511489808,
           273834.92243283044,
           328552.6175538638,
           335913.74245803873,
           322418.34680038475,
           639928.201000462,
           246108.01862710493,
           372719.3669789132,
           252487.66021072317,
           242182.08534487832,
           410629.160235414,
           462402.4053947774,
           307328.0407468262,
           322172.97597024555,
           287330.31809048436,
           331251.6966853946,
           567789.1769395481,
           225496.86889541522,
           269418.2474903255,
           400446.2707846387,
           360450.82547195506,
           414064.35185736226,
           316161.3906318361,
           213228.32738845705,
           340821.159060822,
           475407.0593921531,
           312726.19900988776,
           266841.8537738642,
           242550.1415900871,
           352108.2172472235,
           607661.9368371621,
           355788.77969931095,
           294691.4429946593,
           365112.87124459917,
           405476.37280249153,
           237765.41040237338,
           195070.88595815896,
           317756.30102774064,
           238133.46664758213
          ],
          [
           335217.9620868815,
           273384.51289181237,
           371532.8449474777,
           250810.39651900934,
           445144.09398922673,
           320618.3976936013,
           265287.27549722,
           252159.93608477473,
           246393.7215765044,
           260379.8588944367,
           315097.55401547014,
           322458.678919645,
           308963.28326199105,
           626473.1374620685,
           232652.95508871126,
           359264.30344051955,
           239032.5966723295,
           228727.02180648464,
           397174.0966970203,
           448947.3418563838,
           293872.9772084325,
           308717.9124318519,
           273875.25455209066,
           317796.6331470009,
           554334.1134011544,
           212041.8053570215,
           255963.18395193177,
           386991.207246245,
           346995.7619335614,
           400609.28831896855,
           302706.3270934424,
           199773.26385006338,
           327366.0955224283,
           461951.9958537594,
           299271.1354714941,
           253386.79023547057,
           229095.0780516934,
           338653.15370882984,
           594206.8732987684,
           342333.7161609173,
           281236.3794562656,
           351657.8077062055,
           392021.3092640978,
           224310.3468639797,
           181615.8224197653,
           304301.237489347,
           224678.40310918842
          ],
          [
           348673.0256252752,
           286839.57643020607,
           384987.9084858714,
           264265.460057403,
           458599.15752762044,
           334073.461231995,
           278742.3390356137,
           265614.99962316843,
           259848.78511489808,
           273834.92243283044,
           328552.6175538638,
           335913.74245803873,
           322418.34680038475,
           639928.201000462,
           246108.01862710493,
           372719.3669789132,
           252487.66021072317,
           242182.08534487832,
           410629.160235414,
           462402.4053947774,
           307328.0407468262,
           322172.97597024555,
           287330.31809048436,
           331251.6966853946,
           567789.1769395481,
           225496.86889541522,
           269418.2474903255,
           400446.2707846387,
           360450.82547195506,
           414064.35185736226,
           316161.3906318361,
           213228.32738845705,
           340821.159060822,
           475407.0593921531,
           312726.19900988776,
           266841.8537738642,
           242550.1415900871,
           352108.2172472235,
           607661.9368371621,
           355788.77969931095,
           294691.4429946593,
           365112.87124459917,
           405476.37280249153,
           237765.41040237338,
           195070.88595815896,
           317756.30102774064,
           238133.46664758213
          ],
          [
           348673.0256252752,
           286839.57643020607,
           384987.9084858714,
           264265.460057403,
           458599.15752762044,
           334073.461231995,
           278742.3390356137,
           265614.99962316843,
           259848.78511489808,
           273834.92243283044,
           328552.6175538638,
           335913.74245803873,
           322418.34680038475,
           639928.201000462,
           246108.01862710493,
           372719.3669789132,
           252487.66021072317,
           242182.08534487832,
           410629.160235414,
           462402.4053947774,
           307328.0407468262,
           322172.97597024555,
           287330.31809048436,
           331251.6966853946,
           567789.1769395481,
           225496.86889541522,
           269418.2474903255,
           400446.2707846387,
           360450.82547195506,
           414064.35185736226,
           316161.3906318361,
           213228.32738845705,
           340821.159060822,
           475407.0593921531,
           312726.19900988776,
           266841.8537738642,
           242550.1415900871,
           352108.2172472235,
           607661.9368371621,
           355788.77969931095,
           294691.4429946593,
           365112.87124459917,
           405476.37280249153,
           237765.41040237338,
           195070.88595815896,
           317756.30102774064,
           238133.46664758213
          ],
          [
           348673.0256252752,
           286839.57643020607,
           384987.9084858714,
           264265.460057403,
           458599.15752762044,
           334073.461231995,
           278742.3390356137,
           265614.99962316843,
           259848.78511489808,
           273834.92243283044,
           328552.6175538638,
           335913.74245803873,
           322418.34680038475,
           639928.201000462,
           246108.01862710493,
           372719.3669789132,
           252487.66021072317,
           242182.08534487832,
           410629.160235414,
           462402.4053947774,
           307328.0407468262,
           322172.97597024555,
           287330.31809048436,
           331251.6966853946,
           567789.1769395481,
           225496.86889541522,
           269418.2474903255,
           400446.2707846387,
           360450.82547195506,
           414064.35185736226,
           316161.3906318361,
           213228.32738845705,
           340821.159060822,
           475407.0593921531,
           312726.19900988776,
           266841.8537738642,
           242550.1415900871,
           352108.2172472235,
           607661.9368371621,
           355788.77969931095,
           294691.4429946593,
           365112.87124459917,
           405476.37280249153,
           237765.41040237338,
           195070.88595815896,
           317756.30102774064,
           238133.46664758213
          ],
          [
           348673.0256252752,
           286839.57643020607,
           384987.9084858714,
           264265.460057403,
           458599.15752762044,
           334073.461231995,
           278742.3390356137,
           265614.99962316843,
           259848.78511489808,
           273834.92243283044,
           328552.6175538638,
           335913.74245803873,
           322418.34680038475,
           639928.201000462,
           246108.01862710493,
           372719.3669789132,
           252487.66021072317,
           242182.08534487832,
           410629.160235414,
           462402.4053947774,
           307328.0407468262,
           322172.97597024555,
           287330.31809048436,
           331251.6966853946,
           567789.1769395481,
           225496.86889541522,
           269418.2474903255,
           400446.2707846387,
           360450.82547195506,
           414064.35185736226,
           316161.3906318361,
           213228.32738845705,
           340821.159060822,
           475407.0593921531,
           312726.19900988776,
           266841.8537738642,
           242550.1415900871,
           352108.2172472235,
           607661.9368371621,
           355788.77969931095,
           294691.4429946593,
           365112.87124459917,
           405476.37280249153,
           237765.41040237338,
           195070.88595815896,
           317756.30102774064,
           238133.46664758213
          ],
          [
           348673.0256252752,
           286839.57643020607,
           384987.9084858714,
           264265.460057403,
           458599.15752762044,
           334073.461231995,
           278742.3390356137,
           265614.99962316843,
           259848.78511489808,
           273834.92243283044,
           328552.6175538638,
           335913.74245803873,
           322418.34680038475,
           639928.201000462,
           246108.01862710493,
           372719.3669789132,
           252487.66021072317,
           242182.08534487832,
           410629.160235414,
           462402.4053947774,
           307328.0407468262,
           322172.97597024555,
           287330.31809048436,
           331251.6966853946,
           567789.1769395481,
           225496.86889541522,
           269418.2474903255,
           400446.2707846387,
           360450.82547195506,
           414064.35185736226,
           316161.3906318361,
           213228.32738845705,
           340821.159060822,
           475407.0593921531,
           312726.19900988776,
           266841.8537738642,
           242550.1415900871,
           352108.2172472235,
           607661.9368371621,
           355788.77969931095,
           294691.4429946593,
           365112.87124459917,
           405476.37280249153,
           237765.41040237338,
           195070.88595815896,
           317756.30102774064,
           238133.46664758213
          ],
          [
           348673.0256252752,
           286839.57643020607,
           384987.9084858714,
           264265.460057403,
           458599.15752762044,
           334073.461231995,
           278742.3390356137,
           265614.99962316843,
           259848.78511489808,
           273834.92243283044,
           328552.6175538638,
           335913.74245803873,
           322418.34680038475,
           639928.201000462,
           246108.01862710493,
           372719.3669789132,
           252487.66021072317,
           242182.08534487832,
           410629.160235414,
           462402.4053947774,
           307328.0407468262,
           322172.97597024555,
           287330.31809048436,
           331251.6966853946,
           567789.1769395481,
           225496.86889541522,
           269418.2474903255,
           400446.2707846387,
           360450.82547195506,
           414064.35185736226,
           316161.3906318361,
           213228.32738845705,
           340821.159060822,
           475407.0593921531,
           312726.19900988776,
           266841.8537738642,
           242550.1415900871,
           352108.2172472235,
           607661.9368371621,
           355788.77969931095,
           294691.4429946593,
           365112.87124459917,
           405476.37280249153,
           237765.41040237338,
           195070.88595815896,
           317756.30102774064,
           238133.46664758213
          ],
          [
           362128.0891636689,
           300294.6399685998,
           398442.9720242651,
           277720.5235957967,
           472054.2210660141,
           347528.5247703887,
           292197.40257400734,
           279070.0631615621,
           273303.84865329176,
           287289.9859712241,
           342007.6810922575,
           349368.80599643243,
           335873.4103387784,
           653383.2645388558,
           259563.08216549864,
           386174.4305173069,
           265942.7237491169,
           255637.14888327202,
           424084.22377380764,
           475857.4689331711,
           320783.1042852199,
           335628.03950863925,
           300785.38162887807,
           344706.7602237883,
           581244.2404779418,
           238951.93243380892,
           282873.3110287192,
           413901.33432303235,
           373905.88901034876,
           427519.41539575596,
           329616.4541702297,
           226683.39092685073,
           354276.2225992157,
           488862.12293054676,
           326181.26254828146,
           280296.9173122579,
           256005.20512848074,
           365563.2807856172,
           621117.0003755558,
           369243.84323770466,
           308146.506533053,
           378567.9347829928,
           418931.43634088524,
           251220.47394076706,
           208525.94949655264,
           331211.3645661343,
           251588.53018597583
          ],
          [
           375583.1527020626,
           313749.7035069934,
           411898.0355626588,
           291175.58713419037,
           485509.2846044078,
           360983.5883087824,
           305652.46611240105,
           292525.1266999558,
           286758.91219168546,
           300745.04950961773,
           355462.7446306512,
           362823.86953482614,
           349328.4738771721,
           666838.3280772495,
           273018.14570389234,
           399629.4940557006,
           279397.7872875106,
           269092.21242166567,
           437539.28731220134,
           489312.53247156483,
           334238.16782361356,
           349083.10304703296,
           314240.44516727177,
           358161.82376218203,
           594699.3040163354,
           252406.9959722026,
           296328.3745671128,
           427356.39786142606,
           387360.9525487424,
           440974.4789341496,
           343071.51770862343,
           240138.45446524443,
           367731.2861376094,
           502317.18646894046,
           339636.32608667517,
           293751.9808506516,
           269460.26866687444,
           379018.3443240109,
           634572.0639139495,
           382698.9067760983,
           321601.57007144665,
           392022.9983213865,
           432386.49987927894,
           264675.53747916076,
           221981.01303494634,
           344666.428104528,
           265043.59372436954
          ],
          [
           335217.9620868815,
           273384.51289181237,
           371532.8449474777,
           250810.39651900934,
           445144.09398922673,
           320618.3976936013,
           265287.27549722,
           252159.93608477473,
           246393.7215765044,
           260379.8588944367,
           315097.55401547014,
           322458.678919645,
           308963.28326199105,
           626473.1374620685,
           232652.95508871126,
           359264.30344051955,
           239032.5966723295,
           228727.02180648464,
           397174.0966970203,
           448947.3418563838,
           293872.9772084325,
           308717.9124318519,
           273875.25455209066,
           317796.6331470009,
           554334.1134011544,
           212041.8053570215,
           255963.18395193177,
           386991.207246245,
           346995.7619335614,
           400609.28831896855,
           302706.3270934424,
           199773.26385006338,
           327366.0955224283,
           461951.9958537594,
           299271.1354714941,
           253386.79023547057,
           229095.0780516934,
           338653.15370882984,
           594206.8732987684,
           342333.7161609173,
           281236.3794562656,
           351657.8077062055,
           392021.3092640978,
           224310.3468639797,
           181615.8224197653,
           304301.237489347,
           224678.40310918842
          ],
          [
           348673.0256252752,
           286839.57643020607,
           384987.9084858714,
           264265.460057403,
           458599.15752762044,
           334073.461231995,
           278742.3390356137,
           265614.99962316843,
           259848.78511489808,
           273834.92243283044,
           328552.6175538638,
           335913.74245803873,
           322418.34680038475,
           639928.201000462,
           246108.01862710493,
           372719.3669789132,
           252487.66021072317,
           242182.08534487832,
           410629.160235414,
           462402.4053947774,
           307328.0407468262,
           322172.97597024555,
           287330.31809048436,
           331251.6966853946,
           567789.1769395481,
           225496.86889541522,
           269418.2474903255,
           400446.2707846387,
           360450.82547195506,
           414064.35185736226,
           316161.3906318361,
           213228.32738845705,
           340821.159060822,
           475407.0593921531,
           312726.19900988776,
           266841.8537738642,
           242550.1415900871,
           352108.2172472235,
           607661.9368371621,
           355788.77969931095,
           294691.4429946593,
           365112.87124459917,
           405476.37280249153,
           237765.41040237338,
           195070.88595815896,
           317756.30102774064,
           238133.46664758213
          ],
          [
           335217.9620868815,
           273384.51289181237,
           371532.8449474777,
           250810.39651900934,
           445144.09398922673,
           320618.3976936013,
           265287.27549722,
           252159.93608477473,
           246393.7215765044,
           260379.8588944367,
           315097.55401547014,
           322458.678919645,
           308963.28326199105,
           626473.1374620685,
           232652.95508871126,
           359264.30344051955,
           239032.5966723295,
           228727.02180648464,
           397174.0966970203,
           448947.3418563838,
           293872.9772084325,
           308717.9124318519,
           273875.25455209066,
           317796.6331470009,
           554334.1134011544,
           212041.8053570215,
           255963.18395193177,
           386991.207246245,
           346995.7619335614,
           400609.28831896855,
           302706.3270934424,
           199773.26385006338,
           327366.0955224283,
           461951.9958537594,
           299271.1354714941,
           253386.79023547057,
           229095.0780516934,
           338653.15370882984,
           594206.8732987684,
           342333.7161609173,
           281236.3794562656,
           351657.8077062055,
           392021.3092640978,
           224310.3468639797,
           181615.8224197653,
           304301.237489347,
           224678.40310918842
          ],
          [
           348673.0256252752,
           286839.57643020607,
           384987.9084858714,
           264265.460057403,
           458599.15752762044,
           334073.461231995,
           278742.3390356137,
           265614.99962316843,
           259848.78511489808,
           273834.92243283044,
           328552.6175538638,
           335913.74245803873,
           322418.34680038475,
           639928.201000462,
           246108.01862710493,
           372719.3669789132,
           252487.66021072317,
           242182.08534487832,
           410629.160235414,
           462402.4053947774,
           307328.0407468262,
           322172.97597024555,
           287330.31809048436,
           331251.6966853946,
           567789.1769395481,
           225496.86889541522,
           269418.2474903255,
           400446.2707846387,
           360450.82547195506,
           414064.35185736226,
           316161.3906318361,
           213228.32738845705,
           340821.159060822,
           475407.0593921531,
           312726.19900988776,
           266841.8537738642,
           242550.1415900871,
           352108.2172472235,
           607661.9368371621,
           355788.77969931095,
           294691.4429946593,
           365112.87124459917,
           405476.37280249153,
           237765.41040237338,
           195070.88595815896,
           317756.30102774064,
           238133.46664758213
          ],
          [
           348673.0256252752,
           286839.57643020607,
           384987.9084858714,
           264265.460057403,
           458599.15752762044,
           334073.461231995,
           278742.3390356137,
           265614.99962316843,
           259848.78511489808,
           273834.92243283044,
           328552.6175538638,
           335913.74245803873,
           322418.34680038475,
           639928.201000462,
           246108.01862710493,
           372719.3669789132,
           252487.66021072317,
           242182.08534487832,
           410629.160235414,
           462402.4053947774,
           307328.0407468262,
           322172.97597024555,
           287330.31809048436,
           331251.6966853946,
           567789.1769395481,
           225496.86889541522,
           269418.2474903255,
           400446.2707846387,
           360450.82547195506,
           414064.35185736226,
           316161.3906318361,
           213228.32738845705,
           340821.159060822,
           475407.0593921531,
           312726.19900988776,
           266841.8537738642,
           242550.1415900871,
           352108.2172472235,
           607661.9368371621,
           355788.77969931095,
           294691.4429946593,
           365112.87124459917,
           405476.37280249153,
           237765.41040237338,
           195070.88595815896,
           317756.30102774064,
           238133.46664758213
          ],
          [
           335217.9620868815,
           273384.51289181237,
           371532.8449474777,
           250810.39651900934,
           445144.09398922673,
           320618.3976936013,
           265287.27549722,
           252159.93608477473,
           246393.7215765044,
           260379.8588944367,
           315097.55401547014,
           322458.678919645,
           308963.28326199105,
           626473.1374620685,
           232652.95508871126,
           359264.30344051955,
           239032.5966723295,
           228727.02180648464,
           397174.0966970203,
           448947.3418563838,
           293872.9772084325,
           308717.9124318519,
           273875.25455209066,
           317796.6331470009,
           554334.1134011544,
           212041.8053570215,
           255963.18395193177,
           386991.207246245,
           346995.7619335614,
           400609.28831896855,
           302706.3270934424,
           199773.26385006338,
           327366.0955224283,
           461951.9958537594,
           299271.1354714941,
           253386.79023547057,
           229095.0780516934,
           338653.15370882984,
           594206.8732987684,
           342333.7161609173,
           281236.3794562656,
           351657.8077062055,
           392021.3092640978,
           224310.3468639797,
           181615.8224197653,
           304301.237489347,
           224678.40310918842
          ],
          [
           335217.9620868815,
           273384.51289181237,
           371532.8449474777,
           250810.39651900934,
           445144.09398922673,
           320618.3976936013,
           265287.27549722,
           252159.93608477473,
           246393.7215765044,
           260379.8588944367,
           315097.55401547014,
           322458.678919645,
           308963.28326199105,
           626473.1374620685,
           232652.95508871126,
           359264.30344051955,
           239032.5966723295,
           228727.02180648464,
           397174.0966970203,
           448947.3418563838,
           293872.9772084325,
           308717.9124318519,
           273875.25455209066,
           317796.6331470009,
           554334.1134011544,
           212041.8053570215,
           255963.18395193177,
           386991.207246245,
           346995.7619335614,
           400609.28831896855,
           302706.3270934424,
           199773.26385006338,
           327366.0955224283,
           461951.9958537594,
           299271.1354714941,
           253386.79023547057,
           229095.0780516934,
           338653.15370882984,
           594206.8732987684,
           342333.7161609173,
           281236.3794562656,
           351657.8077062055,
           392021.3092640978,
           224310.3468639797,
           181615.8224197653,
           304301.237489347,
           224678.40310918842
          ],
          [
           335217.9620868815,
           273384.51289181237,
           371532.8449474777,
           250810.39651900934,
           445144.09398922673,
           320618.3976936013,
           265287.27549722,
           252159.93608477473,
           246393.7215765044,
           260379.8588944367,
           315097.55401547014,
           322458.678919645,
           308963.28326199105,
           626473.1374620685,
           232652.95508871126,
           359264.30344051955,
           239032.5966723295,
           228727.02180648464,
           397174.0966970203,
           448947.3418563838,
           293872.9772084325,
           308717.9124318519,
           273875.25455209066,
           317796.6331470009,
           554334.1134011544,
           212041.8053570215,
           255963.18395193177,
           386991.207246245,
           346995.7619335614,
           400609.28831896855,
           302706.3270934424,
           199773.26385006338,
           327366.0955224283,
           461951.9958537594,
           299271.1354714941,
           253386.79023547057,
           229095.0780516934,
           338653.15370882984,
           594206.8732987684,
           342333.7161609173,
           281236.3794562656,
           351657.8077062055,
           392021.3092640978,
           224310.3468639797,
           181615.8224197653,
           304301.237489347,
           224678.40310918842
          ],
          [
           362128.0891636689,
           300294.6399685998,
           398442.9720242651,
           277720.5235957967,
           472054.2210660141,
           347528.5247703887,
           292197.40257400734,
           279070.0631615621,
           273303.84865329176,
           287289.9859712241,
           342007.6810922575,
           349368.80599643243,
           335873.4103387784,
           653383.2645388558,
           259563.08216549864,
           386174.4305173069,
           265942.7237491169,
           255637.14888327202,
           424084.22377380764,
           475857.4689331711,
           320783.1042852199,
           335628.03950863925,
           300785.38162887807,
           344706.7602237883,
           581244.2404779418,
           238951.93243380892,
           282873.3110287192,
           413901.33432303235,
           373905.88901034876,
           427519.41539575596,
           329616.4541702297,
           226683.39092685073,
           354276.2225992157,
           488862.12293054676,
           326181.26254828146,
           280296.9173122579,
           256005.20512848074,
           365563.2807856172,
           621117.0003755558,
           369243.84323770466,
           308146.506533053,
           378567.9347829928,
           418931.43634088524,
           251220.47394076706,
           208525.94949655264,
           331211.3645661343,
           251588.53018597583
          ],
          [
           348673.0256252752,
           286839.57643020607,
           384987.9084858714,
           264265.460057403,
           458599.15752762044,
           334073.461231995,
           278742.3390356137,
           265614.99962316843,
           259848.78511489808,
           273834.92243283044,
           328552.6175538638,
           335913.74245803873,
           322418.34680038475,
           639928.201000462,
           246108.01862710493,
           372719.3669789132,
           252487.66021072317,
           242182.08534487832,
           410629.160235414,
           462402.4053947774,
           307328.0407468262,
           322172.97597024555,
           287330.31809048436,
           331251.6966853946,
           567789.1769395481,
           225496.86889541522,
           269418.2474903255,
           400446.2707846387,
           360450.82547195506,
           414064.35185736226,
           316161.3906318361,
           213228.32738845705,
           340821.159060822,
           475407.0593921531,
           312726.19900988776,
           266841.8537738642,
           242550.1415900871,
           352108.2172472235,
           607661.9368371621,
           355788.77969931095,
           294691.4429946593,
           365112.87124459917,
           405476.37280249153,
           237765.41040237338,
           195070.88595815896,
           317756.30102774064,
           238133.46664758213
          ],
          [
           335217.9620868815,
           273384.51289181237,
           371532.8449474777,
           250810.39651900934,
           445144.09398922673,
           320618.3976936013,
           265287.27549722,
           252159.93608477473,
           246393.7215765044,
           260379.8588944367,
           315097.55401547014,
           322458.678919645,
           308963.28326199105,
           626473.1374620685,
           232652.95508871126,
           359264.30344051955,
           239032.5966723295,
           228727.02180648464,
           397174.0966970203,
           448947.3418563838,
           293872.9772084325,
           308717.9124318519,
           273875.25455209066,
           317796.6331470009,
           554334.1134011544,
           212041.8053570215,
           255963.18395193177,
           386991.207246245,
           346995.7619335614,
           400609.28831896855,
           302706.3270934424,
           199773.26385006338,
           327366.0955224283,
           461951.9958537594,
           299271.1354714941,
           253386.79023547057,
           229095.0780516934,
           338653.15370882984,
           594206.8732987684,
           342333.7161609173,
           281236.3794562656,
           351657.8077062055,
           392021.3092640978,
           224310.3468639797,
           181615.8224197653,
           304301.237489347,
           224678.40310918842
          ],
          [
           348673.0256252752,
           286839.57643020607,
           384987.9084858714,
           264265.460057403,
           458599.15752762044,
           334073.461231995,
           278742.3390356137,
           265614.99962316843,
           259848.78511489808,
           273834.92243283044,
           328552.6175538638,
           335913.74245803873,
           322418.34680038475,
           639928.201000462,
           246108.01862710493,
           372719.3669789132,
           252487.66021072317,
           242182.08534487832,
           410629.160235414,
           462402.4053947774,
           307328.0407468262,
           322172.97597024555,
           287330.31809048436,
           331251.6966853946,
           567789.1769395481,
           225496.86889541522,
           269418.2474903255,
           400446.2707846387,
           360450.82547195506,
           414064.35185736226,
           316161.3906318361,
           213228.32738845705,
           340821.159060822,
           475407.0593921531,
           312726.19900988776,
           266841.8537738642,
           242550.1415900871,
           352108.2172472235,
           607661.9368371621,
           355788.77969931095,
           294691.4429946593,
           365112.87124459917,
           405476.37280249153,
           237765.41040237338,
           195070.88595815896,
           317756.30102774064,
           238133.46664758213
          ],
          [
           362128.0891636689,
           300294.6399685998,
           398442.9720242651,
           277720.5235957967,
           472054.2210660141,
           347528.5247703887,
           292197.40257400734,
           279070.0631615621,
           273303.84865329176,
           287289.9859712241,
           342007.6810922575,
           349368.80599643243,
           335873.4103387784,
           653383.2645388558,
           259563.08216549864,
           386174.4305173069,
           265942.7237491169,
           255637.14888327202,
           424084.22377380764,
           475857.4689331711,
           320783.1042852199,
           335628.03950863925,
           300785.38162887807,
           344706.7602237883,
           581244.2404779418,
           238951.93243380892,
           282873.3110287192,
           413901.33432303235,
           373905.88901034876,
           427519.41539575596,
           329616.4541702297,
           226683.39092685073,
           354276.2225992157,
           488862.12293054676,
           326181.26254828146,
           280296.9173122579,
           256005.20512848074,
           365563.2807856172,
           621117.0003755558,
           369243.84323770466,
           308146.506533053,
           378567.9347829928,
           418931.43634088524,
           251220.47394076706,
           208525.94949655264,
           331211.3645661343,
           251588.53018597583
          ],
          [
           335217.9620868815,
           273384.51289181237,
           371532.8449474777,
           250810.39651900934,
           445144.09398922673,
           320618.3976936013,
           265287.27549722,
           252159.93608477473,
           246393.7215765044,
           260379.8588944367,
           315097.55401547014,
           322458.678919645,
           308963.28326199105,
           626473.1374620685,
           232652.95508871126,
           359264.30344051955,
           239032.5966723295,
           228727.02180648464,
           397174.0966970203,
           448947.3418563838,
           293872.9772084325,
           308717.9124318519,
           273875.25455209066,
           317796.6331470009,
           554334.1134011544,
           212041.8053570215,
           255963.18395193177,
           386991.207246245,
           346995.7619335614,
           400609.28831896855,
           302706.3270934424,
           199773.26385006338,
           327366.0955224283,
           461951.9958537594,
           299271.1354714941,
           253386.79023547057,
           229095.0780516934,
           338653.15370882984,
           594206.8732987684,
           342333.7161609173,
           281236.3794562656,
           351657.8077062055,
           392021.3092640978,
           224310.3468639797,
           181615.8224197653,
           304301.237489347,
           224678.40310918842
          ],
          [
           348673.0256252752,
           286839.57643020607,
           384987.9084858714,
           264265.460057403,
           458599.15752762044,
           334073.461231995,
           278742.3390356137,
           265614.99962316843,
           259848.78511489808,
           273834.92243283044,
           328552.6175538638,
           335913.74245803873,
           322418.34680038475,
           639928.201000462,
           246108.01862710493,
           372719.3669789132,
           252487.66021072317,
           242182.08534487832,
           410629.160235414,
           462402.4053947774,
           307328.0407468262,
           322172.97597024555,
           287330.31809048436,
           331251.6966853946,
           567789.1769395481,
           225496.86889541522,
           269418.2474903255,
           400446.2707846387,
           360450.82547195506,
           414064.35185736226,
           316161.3906318361,
           213228.32738845705,
           340821.159060822,
           475407.0593921531,
           312726.19900988776,
           266841.8537738642,
           242550.1415900871,
           352108.2172472235,
           607661.9368371621,
           355788.77969931095,
           294691.4429946593,
           365112.87124459917,
           405476.37280249153,
           237765.41040237338,
           195070.88595815896,
           317756.30102774064,
           238133.46664758213
          ]
         ]
        }
       ],
       "layout": {
        "height": 600,
        "margin": {
         "b": 0,
         "l": 0,
         "r": 0,
         "t": 40
        },
        "scene": {
         "xaxis": {
          "title": {
           "text": "taille_en_pieds_carre"
          }
         },
         "yaxis": {
          "title": {
           "text": "nb_chambres"
          }
         },
         "zaxis": {
          "title": {
           "text": "prix"
          }
         }
        },
        "template": {
         "data": {
          "bar": [
           {
            "error_x": {
             "color": "#2a3f5f"
            },
            "error_y": {
             "color": "#2a3f5f"
            },
            "marker": {
             "line": {
              "color": "#E5ECF6",
              "width": 0.5
             },
             "pattern": {
              "fillmode": "overlay",
              "size": 10,
              "solidity": 0.2
             }
            },
            "type": "bar"
           }
          ],
          "barpolar": [
           {
            "marker": {
             "line": {
              "color": "#E5ECF6",
              "width": 0.5
             },
             "pattern": {
              "fillmode": "overlay",
              "size": 10,
              "solidity": 0.2
             }
            },
            "type": "barpolar"
           }
          ],
          "carpet": [
           {
            "aaxis": {
             "endlinecolor": "#2a3f5f",
             "gridcolor": "white",
             "linecolor": "white",
             "minorgridcolor": "white",
             "startlinecolor": "#2a3f5f"
            },
            "baxis": {
             "endlinecolor": "#2a3f5f",
             "gridcolor": "white",
             "linecolor": "white",
             "minorgridcolor": "white",
             "startlinecolor": "#2a3f5f"
            },
            "type": "carpet"
           }
          ],
          "choropleth": [
           {
            "colorbar": {
             "outlinewidth": 0,
             "ticks": ""
            },
            "type": "choropleth"
           }
          ],
          "contour": [
           {
            "colorbar": {
             "outlinewidth": 0,
             "ticks": ""
            },
            "colorscale": [
             [
              0,
              "#0d0887"
             ],
             [
              0.1111111111111111,
              "#46039f"
             ],
             [
              0.2222222222222222,
              "#7201a8"
             ],
             [
              0.3333333333333333,
              "#9c179e"
             ],
             [
              0.4444444444444444,
              "#bd3786"
             ],
             [
              0.5555555555555556,
              "#d8576b"
             ],
             [
              0.6666666666666666,
              "#ed7953"
             ],
             [
              0.7777777777777778,
              "#fb9f3a"
             ],
             [
              0.8888888888888888,
              "#fdca26"
             ],
             [
              1,
              "#f0f921"
             ]
            ],
            "type": "contour"
           }
          ],
          "contourcarpet": [
           {
            "colorbar": {
             "outlinewidth": 0,
             "ticks": ""
            },
            "type": "contourcarpet"
           }
          ],
          "heatmap": [
           {
            "colorbar": {
             "outlinewidth": 0,
             "ticks": ""
            },
            "colorscale": [
             [
              0,
              "#0d0887"
             ],
             [
              0.1111111111111111,
              "#46039f"
             ],
             [
              0.2222222222222222,
              "#7201a8"
             ],
             [
              0.3333333333333333,
              "#9c179e"
             ],
             [
              0.4444444444444444,
              "#bd3786"
             ],
             [
              0.5555555555555556,
              "#d8576b"
             ],
             [
              0.6666666666666666,
              "#ed7953"
             ],
             [
              0.7777777777777778,
              "#fb9f3a"
             ],
             [
              0.8888888888888888,
              "#fdca26"
             ],
             [
              1,
              "#f0f921"
             ]
            ],
            "type": "heatmap"
           }
          ],
          "heatmapgl": [
           {
            "colorbar": {
             "outlinewidth": 0,
             "ticks": ""
            },
            "colorscale": [
             [
              0,
              "#0d0887"
             ],
             [
              0.1111111111111111,
              "#46039f"
             ],
             [
              0.2222222222222222,
              "#7201a8"
             ],
             [
              0.3333333333333333,
              "#9c179e"
             ],
             [
              0.4444444444444444,
              "#bd3786"
             ],
             [
              0.5555555555555556,
              "#d8576b"
             ],
             [
              0.6666666666666666,
              "#ed7953"
             ],
             [
              0.7777777777777778,
              "#fb9f3a"
             ],
             [
              0.8888888888888888,
              "#fdca26"
             ],
             [
              1,
              "#f0f921"
             ]
            ],
            "type": "heatmapgl"
           }
          ],
          "histogram": [
           {
            "marker": {
             "pattern": {
              "fillmode": "overlay",
              "size": 10,
              "solidity": 0.2
             }
            },
            "type": "histogram"
           }
          ],
          "histogram2d": [
           {
            "colorbar": {
             "outlinewidth": 0,
             "ticks": ""
            },
            "colorscale": [
             [
              0,
              "#0d0887"
             ],
             [
              0.1111111111111111,
              "#46039f"
             ],
             [
              0.2222222222222222,
              "#7201a8"
             ],
             [
              0.3333333333333333,
              "#9c179e"
             ],
             [
              0.4444444444444444,
              "#bd3786"
             ],
             [
              0.5555555555555556,
              "#d8576b"
             ],
             [
              0.6666666666666666,
              "#ed7953"
             ],
             [
              0.7777777777777778,
              "#fb9f3a"
             ],
             [
              0.8888888888888888,
              "#fdca26"
             ],
             [
              1,
              "#f0f921"
             ]
            ],
            "type": "histogram2d"
           }
          ],
          "histogram2dcontour": [
           {
            "colorbar": {
             "outlinewidth": 0,
             "ticks": ""
            },
            "colorscale": [
             [
              0,
              "#0d0887"
             ],
             [
              0.1111111111111111,
              "#46039f"
             ],
             [
              0.2222222222222222,
              "#7201a8"
             ],
             [
              0.3333333333333333,
              "#9c179e"
             ],
             [
              0.4444444444444444,
              "#bd3786"
             ],
             [
              0.5555555555555556,
              "#d8576b"
             ],
             [
              0.6666666666666666,
              "#ed7953"
             ],
             [
              0.7777777777777778,
              "#fb9f3a"
             ],
             [
              0.8888888888888888,
              "#fdca26"
             ],
             [
              1,
              "#f0f921"
             ]
            ],
            "type": "histogram2dcontour"
           }
          ],
          "mesh3d": [
           {
            "colorbar": {
             "outlinewidth": 0,
             "ticks": ""
            },
            "type": "mesh3d"
           }
          ],
          "parcoords": [
           {
            "line": {
             "colorbar": {
              "outlinewidth": 0,
              "ticks": ""
             }
            },
            "type": "parcoords"
           }
          ],
          "pie": [
           {
            "automargin": true,
            "type": "pie"
           }
          ],
          "scatter": [
           {
            "fillpattern": {
             "fillmode": "overlay",
             "size": 10,
             "solidity": 0.2
            },
            "type": "scatter"
           }
          ],
          "scatter3d": [
           {
            "line": {
             "colorbar": {
              "outlinewidth": 0,
              "ticks": ""
             }
            },
            "marker": {
             "colorbar": {
              "outlinewidth": 0,
              "ticks": ""
             }
            },
            "type": "scatter3d"
           }
          ],
          "scattercarpet": [
           {
            "marker": {
             "colorbar": {
              "outlinewidth": 0,
              "ticks": ""
             }
            },
            "type": "scattercarpet"
           }
          ],
          "scattergeo": [
           {
            "marker": {
             "colorbar": {
              "outlinewidth": 0,
              "ticks": ""
             }
            },
            "type": "scattergeo"
           }
          ],
          "scattergl": [
           {
            "marker": {
             "colorbar": {
              "outlinewidth": 0,
              "ticks": ""
             }
            },
            "type": "scattergl"
           }
          ],
          "scattermapbox": [
           {
            "marker": {
             "colorbar": {
              "outlinewidth": 0,
              "ticks": ""
             }
            },
            "type": "scattermapbox"
           }
          ],
          "scatterpolar": [
           {
            "marker": {
             "colorbar": {
              "outlinewidth": 0,
              "ticks": ""
             }
            },
            "type": "scatterpolar"
           }
          ],
          "scatterpolargl": [
           {
            "marker": {
             "colorbar": {
              "outlinewidth": 0,
              "ticks": ""
             }
            },
            "type": "scatterpolargl"
           }
          ],
          "scatterternary": [
           {
            "marker": {
             "colorbar": {
              "outlinewidth": 0,
              "ticks": ""
             }
            },
            "type": "scatterternary"
           }
          ],
          "surface": [
           {
            "colorbar": {
             "outlinewidth": 0,
             "ticks": ""
            },
            "colorscale": [
             [
              0,
              "#0d0887"
             ],
             [
              0.1111111111111111,
              "#46039f"
             ],
             [
              0.2222222222222222,
              "#7201a8"
             ],
             [
              0.3333333333333333,
              "#9c179e"
             ],
             [
              0.4444444444444444,
              "#bd3786"
             ],
             [
              0.5555555555555556,
              "#d8576b"
             ],
             [
              0.6666666666666666,
              "#ed7953"
             ],
             [
              0.7777777777777778,
              "#fb9f3a"
             ],
             [
              0.8888888888888888,
              "#fdca26"
             ],
             [
              1,
              "#f0f921"
             ]
            ],
            "type": "surface"
           }
          ],
          "table": [
           {
            "cells": {
             "fill": {
              "color": "#EBF0F8"
             },
             "line": {
              "color": "white"
             }
            },
            "header": {
             "fill": {
              "color": "#C8D4E3"
             },
             "line": {
              "color": "white"
             }
            },
            "type": "table"
           }
          ]
         },
         "layout": {
          "annotationdefaults": {
           "arrowcolor": "#2a3f5f",
           "arrowhead": 0,
           "arrowwidth": 1
          },
          "autotypenumbers": "strict",
          "coloraxis": {
           "colorbar": {
            "outlinewidth": 0,
            "ticks": ""
           }
          },
          "colorscale": {
           "diverging": [
            [
             0,
             "#8e0152"
            ],
            [
             0.1,
             "#c51b7d"
            ],
            [
             0.2,
             "#de77ae"
            ],
            [
             0.3,
             "#f1b6da"
            ],
            [
             0.4,
             "#fde0ef"
            ],
            [
             0.5,
             "#f7f7f7"
            ],
            [
             0.6,
             "#e6f5d0"
            ],
            [
             0.7,
             "#b8e186"
            ],
            [
             0.8,
             "#7fbc41"
            ],
            [
             0.9,
             "#4d9221"
            ],
            [
             1,
             "#276419"
            ]
           ],
           "sequential": [
            [
             0,
             "#0d0887"
            ],
            [
             0.1111111111111111,
             "#46039f"
            ],
            [
             0.2222222222222222,
             "#7201a8"
            ],
            [
             0.3333333333333333,
             "#9c179e"
            ],
            [
             0.4444444444444444,
             "#bd3786"
            ],
            [
             0.5555555555555556,
             "#d8576b"
            ],
            [
             0.6666666666666666,
             "#ed7953"
            ],
            [
             0.7777777777777778,
             "#fb9f3a"
            ],
            [
             0.8888888888888888,
             "#fdca26"
            ],
            [
             1,
             "#f0f921"
            ]
           ],
           "sequentialminus": [
            [
             0,
             "#0d0887"
            ],
            [
             0.1111111111111111,
             "#46039f"
            ],
            [
             0.2222222222222222,
             "#7201a8"
            ],
            [
             0.3333333333333333,
             "#9c179e"
            ],
            [
             0.4444444444444444,
             "#bd3786"
            ],
            [
             0.5555555555555556,
             "#d8576b"
            ],
            [
             0.6666666666666666,
             "#ed7953"
            ],
            [
             0.7777777777777778,
             "#fb9f3a"
            ],
            [
             0.8888888888888888,
             "#fdca26"
            ],
            [
             1,
             "#f0f921"
            ]
           ]
          },
          "colorway": [
           "#636efa",
           "#EF553B",
           "#00cc96",
           "#ab63fa",
           "#FFA15A",
           "#19d3f3",
           "#FF6692",
           "#B6E880",
           "#FF97FF",
           "#FECB52"
          ],
          "font": {
           "color": "#2a3f5f"
          },
          "geo": {
           "bgcolor": "white",
           "lakecolor": "white",
           "landcolor": "#E5ECF6",
           "showlakes": true,
           "showland": true,
           "subunitcolor": "white"
          },
          "hoverlabel": {
           "align": "left"
          },
          "hovermode": "closest",
          "mapbox": {
           "style": "light"
          },
          "paper_bgcolor": "white",
          "plot_bgcolor": "#E5ECF6",
          "polar": {
           "angularaxis": {
            "gridcolor": "white",
            "linecolor": "white",
            "ticks": ""
           },
           "bgcolor": "#E5ECF6",
           "radialaxis": {
            "gridcolor": "white",
            "linecolor": "white",
            "ticks": ""
           }
          },
          "scene": {
           "xaxis": {
            "backgroundcolor": "#E5ECF6",
            "gridcolor": "white",
            "gridwidth": 2,
            "linecolor": "white",
            "showbackground": true,
            "ticks": "",
            "zerolinecolor": "white"
           },
           "yaxis": {
            "backgroundcolor": "#E5ECF6",
            "gridcolor": "white",
            "gridwidth": 2,
            "linecolor": "white",
            "showbackground": true,
            "ticks": "",
            "zerolinecolor": "white"
           },
           "zaxis": {
            "backgroundcolor": "#E5ECF6",
            "gridcolor": "white",
            "gridwidth": 2,
            "linecolor": "white",
            "showbackground": true,
            "ticks": "",
            "zerolinecolor": "white"
           }
          },
          "shapedefaults": {
           "line": {
            "color": "#2a3f5f"
           }
          },
          "ternary": {
           "aaxis": {
            "gridcolor": "white",
            "linecolor": "white",
            "ticks": ""
           },
           "baxis": {
            "gridcolor": "white",
            "linecolor": "white",
            "ticks": ""
           },
           "bgcolor": "#E5ECF6",
           "caxis": {
            "gridcolor": "white",
            "linecolor": "white",
            "ticks": ""
           }
          },
          "title": {
           "x": 0.05
          },
          "xaxis": {
           "automargin": true,
           "gridcolor": "white",
           "linecolor": "white",
           "ticks": "",
           "title": {
            "standoff": 15
           },
           "zerolinecolor": "white",
           "zerolinewidth": 2
          },
          "yaxis": {
           "automargin": true,
           "gridcolor": "white",
           "linecolor": "white",
           "ticks": "",
           "title": {
            "standoff": 15
           },
           "zerolinecolor": "white",
           "zerolinewidth": 2
          }
         }
        },
        "title": {
         "text": "Multiple Linear Regression"
        },
        "width": 1000
       }
      }
     },
     "metadata": {},
     "output_type": "display_data"
    }
   ],
   "source": [
    "x1, x2 = np.meshgrid(data['taille_en_pieds_carre'], data['nb_chambres'])\n",
    "predicted_price = mlr.predict(np.array([x1.flatten(), x2.flatten()]).T)\n",
    "predicted_price = predicted_price.reshape(x1.shape)\n",
    "\n",
    "fig = go.Figure()\n",
    "\n",
    "fig.add_trace(go.Scatter3d(x=data['taille_en_pieds_carre'], y=data['nb_chambres'], z=data['prix'],\n",
    "                           mode='markers'))\n",
    "\n",
    "fig.add_trace(go.Surface(x=data['taille_en_pieds_carre'], y=data['nb_chambres'], z=predicted_price,\n",
    "                           colorscale='Reds', opacity=0.7, name='Mlr'))\n",
    "\n",
    "fig.update_layout(scene=dict(xaxis_title='taille_en_pieds_carre',\n",
    "                             yaxis_title='nb_chambres',\n",
    "                             zaxis_title='prix'),\n",
    "                  margin=dict(l=0, r=0, b=0, t=40),\n",
    "                  height=600, width=1000,\n",
    "                  title_text=\"Multiple Linear Regression\")\n",
    "\n",
    "fig.show()"
   ]
  },
  {
   "cell_type": "code",
   "execution_count": null,
   "metadata": {},
   "outputs": [],
   "source": []
  }
 ],
 "metadata": {
  "kernelspec": {
   "display_name": "my_env",
   "language": "python",
   "name": "python3"
  },
  "language_info": {
   "codemirror_mode": {
    "name": "ipython",
    "version": 3
   },
   "file_extension": ".py",
   "mimetype": "text/x-python",
   "name": "python",
   "nbconvert_exporter": "python",
   "pygments_lexer": "ipython3",
   "version": "3.11.9"
  }
 },
 "nbformat": 4,
 "nbformat_minor": 2
}
